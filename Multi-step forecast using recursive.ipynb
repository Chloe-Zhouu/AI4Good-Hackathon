{
  "nbformat": 4,
  "nbformat_minor": 0,
  "metadata": {
    "colab": {
      "name": "Energy_Forecasting_using_LSTM(with_Weather).ipynb",
      "provenance": [],
      "collapsed_sections": [
        "s1UT_JZCvFt9",
        "jdWC_3sG36Hc",
        "MvFFDtsTAeMV",
        "HAGginJcJ7ma"
      ]
    },
    "kernelspec": {
      "name": "python3",
      "display_name": "Python 3"
    },
    "language_info": {
      "name": "python"
    },
    "accelerator": "GPU"
  },
  "cells": [
    {
      "cell_type": "markdown",
      "metadata": {
        "id": "s1UT_JZCvFt9"
      },
      "source": [
        "#Import Libraries"
      ]
    },
    {
      "cell_type": "code",
      "metadata": {
        "id": "Ou29mLC7tvbm",
        "colab": {
          "base_uri": "https://localhost:8080/"
        },
        "outputId": "802ec410-535c-40bf-9ee0-30f37c139166"
      },
      "source": [
        "import numpy as np\n",
        "import matplotlib.pyplot as plt\n",
        "import pandas as pd\n",
        "import torch\n",
        "import torch.nn as nn\n",
        "from torch.autograd import Variable  \n",
        "from sklearn.preprocessing import MinMaxScaler\n",
        "from sklearn.preprocessing import quantile_transform\n",
        "from tqdm import tqdm_notebook as tqdm\n",
        "from torch.utils.data import Dataset,DataLoader\n",
        "device = \"cuda\" if torch.cuda.is_available() else \"cpu\"\n",
        "print(f\"{device}\" \" is available.\")"
      ],
      "execution_count": 1,
      "outputs": [
        {
          "output_type": "stream",
          "text": [
            "cuda is available.\n"
          ],
          "name": "stdout"
        }
      ]
    },
    {
      "cell_type": "markdown",
      "metadata": {
        "id": "fynB5GEqybzq"
      },
      "source": [
        "#Data Exploration"
      ]
    },
    {
      "cell_type": "code",
      "metadata": {
        "id": "9qGtpo8FvFdq",
        "colab": {
          "base_uri": "https://localhost:8080/"
        },
        "outputId": "ae8cf504-951f-46fd-a539-22e77c0dfe60"
      },
      "source": [
        "Ny_Home_Df = pd.read_csv('Sensors.csv')\n",
        "Ny_Home_Df.drop(Ny_Home_Df.tail(1).index,inplace=True) #remove the last row\n",
        "Ny_Home_Df.columns = [col.replace(' [kW]', '') for col in Ny_Home_Df.columns]\n",
        "Ny_Home_Df['All_Furnace'] = Ny_Home_Df[['Furnace 1','Furnace 2']].sum(axis=1)\n",
        "Ny_Home_Df['All_Kitchen'] = Ny_Home_Df[['Kitchen 12','Kitchen 14','Kitchen 38','Fridge','Dishwasher','Microwave']].sum(axis=1)\n",
        "Ny_Home_Df = Ny_Home_Df.drop(['icon', 'summary','gen','cloudCover','time','pressure', 'Furnace 1', 'Furnace 2'], axis=1)\n",
        "time_index = pd.date_range('2016-01-01 05:00', periods=len(Ny_Home_Df), freq='min')  \n",
        "time_index = pd.DatetimeIndex(time_index)\n",
        "Ny_Home_Df = Ny_Home_Df.set_index(time_index)"
      ],
      "execution_count": 175,
      "outputs": [
        {
          "output_type": "stream",
          "text": [
            "/usr/local/lib/python3.7/dist-packages/IPython/core/interactiveshell.py:2718: DtypeWarning: Columns (0,27) have mixed types.Specify dtype option on import or set low_memory=False.\n",
            "  interactivity=interactivity, compiler=compiler, result=result)\n"
          ],
          "name": "stderr"
        }
      ]
    },
    {
      "cell_type": "code",
      "metadata": {
        "id": "E0_v-2n4b49Q",
        "colab": {
          "base_uri": "https://localhost:8080/",
          "height": 417
        },
        "outputId": "f360a90c-f285-43ee-fbd1-39b51049c950"
      },
      "source": [
        "features = ['temperature','humidity', 'visibility','apparentTemperature','windSpeed', 'windBearing', 'precipIntensity','dewPoint','precipProbability']\n",
        "# targets = ['use','Dishwasher','Home office','Fridge','Wine cellar','Garage door','Barn','Well','Microwave','Living room','Solar', 'All_Furnace' ,'All_Kitchen']\n",
        "targets = ['use','Dishwasher','Home office','Fridge','Wine cellar','Garage door','Barn','Well','Microwave','Living room','Solar', 'All_Furnace' ,'All_Kitchen']\n",
        "df = Ny_Home_Df[targets].resample('H').sum()\n",
        "df1 = Ny_Home_Df[features].resample('H').mean()\n",
        "df_hr = pd.concat([df, df1], axis=1)\n",
        "df_hr.head()"
      ],
      "execution_count": 176,
      "outputs": [
        {
          "output_type": "execute_result",
          "data": {
            "text/html": [
              "<div>\n",
              "<style scoped>\n",
              "    .dataframe tbody tr th:only-of-type {\n",
              "        vertical-align: middle;\n",
              "    }\n",
              "\n",
              "    .dataframe tbody tr th {\n",
              "        vertical-align: top;\n",
              "    }\n",
              "\n",
              "    .dataframe thead th {\n",
              "        text-align: right;\n",
              "    }\n",
              "</style>\n",
              "<table border=\"1\" class=\"dataframe\">\n",
              "  <thead>\n",
              "    <tr style=\"text-align: right;\">\n",
              "      <th></th>\n",
              "      <th>use</th>\n",
              "      <th>Dishwasher</th>\n",
              "      <th>Home office</th>\n",
              "      <th>Fridge</th>\n",
              "      <th>Wine cellar</th>\n",
              "      <th>Garage door</th>\n",
              "      <th>Barn</th>\n",
              "      <th>Well</th>\n",
              "      <th>Microwave</th>\n",
              "      <th>Living room</th>\n",
              "      <th>Solar</th>\n",
              "      <th>All_Furnace</th>\n",
              "      <th>All_Kitchen</th>\n",
              "      <th>temperature</th>\n",
              "      <th>humidity</th>\n",
              "      <th>visibility</th>\n",
              "      <th>apparentTemperature</th>\n",
              "      <th>windSpeed</th>\n",
              "      <th>windBearing</th>\n",
              "      <th>precipIntensity</th>\n",
              "      <th>dewPoint</th>\n",
              "      <th>precipProbability</th>\n",
              "    </tr>\n",
              "  </thead>\n",
              "  <tbody>\n",
              "    <tr>\n",
              "      <th>2016-01-01 05:00:00</th>\n",
              "      <td>62.647783</td>\n",
              "      <td>0.003817</td>\n",
              "      <td>14.508850</td>\n",
              "      <td>2.271667</td>\n",
              "      <td>3.801033</td>\n",
              "      <td>0.782767</td>\n",
              "      <td>2.332833</td>\n",
              "      <td>0.062533</td>\n",
              "      <td>1.299100</td>\n",
              "      <td>0.090283</td>\n",
              "      <td>0.198417</td>\n",
              "      <td>23.591283</td>\n",
              "      <td>3.623818</td>\n",
              "      <td>36.131000</td>\n",
              "      <td>0.619667</td>\n",
              "      <td>10.0</td>\n",
              "      <td>29.264667</td>\n",
              "      <td>9.150333</td>\n",
              "      <td>282.100000</td>\n",
              "      <td>0.0</td>\n",
              "      <td>24.383333</td>\n",
              "      <td>0.0</td>\n",
              "    </tr>\n",
              "    <tr>\n",
              "      <th>2016-01-01 06:00:00</th>\n",
              "      <td>55.090017</td>\n",
              "      <td>0.005950</td>\n",
              "      <td>2.597617</td>\n",
              "      <td>4.531317</td>\n",
              "      <td>6.776500</td>\n",
              "      <td>0.770167</td>\n",
              "      <td>2.350883</td>\n",
              "      <td>0.061250</td>\n",
              "      <td>0.252967</td>\n",
              "      <td>0.097083</td>\n",
              "      <td>0.205300</td>\n",
              "      <td>27.402450</td>\n",
              "      <td>4.835151</td>\n",
              "      <td>35.838667</td>\n",
              "      <td>0.610000</td>\n",
              "      <td>10.0</td>\n",
              "      <td>29.364667</td>\n",
              "      <td>8.284000</td>\n",
              "      <td>284.733333</td>\n",
              "      <td>0.0</td>\n",
              "      <td>23.866000</td>\n",
              "      <td>0.0</td>\n",
              "    </tr>\n",
              "    <tr>\n",
              "      <th>2016-01-01 07:00:00</th>\n",
              "      <td>42.884167</td>\n",
              "      <td>0.002550</td>\n",
              "      <td>2.604967</td>\n",
              "      <td>3.569133</td>\n",
              "      <td>0.431050</td>\n",
              "      <td>0.797917</td>\n",
              "      <td>2.066350</td>\n",
              "      <td>0.060833</td>\n",
              "      <td>0.254733</td>\n",
              "      <td>0.097717</td>\n",
              "      <td>0.206900</td>\n",
              "      <td>22.330200</td>\n",
              "      <td>3.870001</td>\n",
              "      <td>35.385000</td>\n",
              "      <td>0.613000</td>\n",
              "      <td>10.0</td>\n",
              "      <td>29.034000</td>\n",
              "      <td>7.927000</td>\n",
              "      <td>279.400000</td>\n",
              "      <td>0.0</td>\n",
              "      <td>23.469000</td>\n",
              "      <td>0.0</td>\n",
              "    </tr>\n",
              "    <tr>\n",
              "      <th>2016-01-01 08:00:00</th>\n",
              "      <td>57.600767</td>\n",
              "      <td>0.008300</td>\n",
              "      <td>3.900833</td>\n",
              "      <td>3.624717</td>\n",
              "      <td>0.422683</td>\n",
              "      <td>0.775517</td>\n",
              "      <td>2.051700</td>\n",
              "      <td>0.060983</td>\n",
              "      <td>0.256450</td>\n",
              "      <td>0.098067</td>\n",
              "      <td>0.206850</td>\n",
              "      <td>36.982217</td>\n",
              "      <td>3.937801</td>\n",
              "      <td>35.282000</td>\n",
              "      <td>0.640000</td>\n",
              "      <td>10.0</td>\n",
              "      <td>30.395333</td>\n",
              "      <td>5.684667</td>\n",
              "      <td>265.000000</td>\n",
              "      <td>0.0</td>\n",
              "      <td>24.202667</td>\n",
              "      <td>0.0</td>\n",
              "    </tr>\n",
              "    <tr>\n",
              "      <th>2016-01-01 09:00:00</th>\n",
              "      <td>38.390183</td>\n",
              "      <td>0.003617</td>\n",
              "      <td>2.603500</td>\n",
              "      <td>2.106350</td>\n",
              "      <td>0.428567</td>\n",
              "      <td>0.793200</td>\n",
              "      <td>1.909783</td>\n",
              "      <td>0.060817</td>\n",
              "      <td>0.255467</td>\n",
              "      <td>0.099000</td>\n",
              "      <td>0.206350</td>\n",
              "      <td>20.630550</td>\n",
              "      <td>2.413185</td>\n",
              "      <td>35.451667</td>\n",
              "      <td>0.641667</td>\n",
              "      <td>10.0</td>\n",
              "      <td>29.673333</td>\n",
              "      <td>6.975000</td>\n",
              "      <td>265.500000</td>\n",
              "      <td>0.0</td>\n",
              "      <td>24.423333</td>\n",
              "      <td>0.0</td>\n",
              "    </tr>\n",
              "  </tbody>\n",
              "</table>\n",
              "</div>"
            ],
            "text/plain": [
              "                           use  Dishwasher  ...   dewPoint  precipProbability\n",
              "2016-01-01 05:00:00  62.647783    0.003817  ...  24.383333                0.0\n",
              "2016-01-01 06:00:00  55.090017    0.005950  ...  23.866000                0.0\n",
              "2016-01-01 07:00:00  42.884167    0.002550  ...  23.469000                0.0\n",
              "2016-01-01 08:00:00  57.600767    0.008300  ...  24.202667                0.0\n",
              "2016-01-01 09:00:00  38.390183    0.003617  ...  24.423333                0.0\n",
              "\n",
              "[5 rows x 22 columns]"
            ]
          },
          "metadata": {
            "tags": []
          },
          "execution_count": 176
        }
      ]
    },
    {
      "cell_type": "code",
      "metadata": {
        "colab": {
          "base_uri": "https://localhost:8080/",
          "height": 338
        },
        "id": "whOwyem5fRJE",
        "outputId": "f8364c43-ccf0-4096-c00b-e57e96a53016"
      },
      "source": [
        "df_hr.describe()"
      ],
      "execution_count": 177,
      "outputs": [
        {
          "output_type": "execute_result",
          "data": {
            "text/html": [
              "<div>\n",
              "<style scoped>\n",
              "    .dataframe tbody tr th:only-of-type {\n",
              "        vertical-align: middle;\n",
              "    }\n",
              "\n",
              "    .dataframe tbody tr th {\n",
              "        vertical-align: top;\n",
              "    }\n",
              "\n",
              "    .dataframe thead th {\n",
              "        text-align: right;\n",
              "    }\n",
              "</style>\n",
              "<table border=\"1\" class=\"dataframe\">\n",
              "  <thead>\n",
              "    <tr style=\"text-align: right;\">\n",
              "      <th></th>\n",
              "      <th>use</th>\n",
              "      <th>Dishwasher</th>\n",
              "      <th>Home office</th>\n",
              "      <th>Fridge</th>\n",
              "      <th>Wine cellar</th>\n",
              "      <th>Garage door</th>\n",
              "      <th>Barn</th>\n",
              "      <th>Well</th>\n",
              "      <th>Microwave</th>\n",
              "      <th>Living room</th>\n",
              "      <th>Solar</th>\n",
              "      <th>All_Furnace</th>\n",
              "      <th>All_Kitchen</th>\n",
              "      <th>temperature</th>\n",
              "      <th>humidity</th>\n",
              "      <th>visibility</th>\n",
              "      <th>apparentTemperature</th>\n",
              "      <th>windSpeed</th>\n",
              "      <th>windBearing</th>\n",
              "      <th>precipIntensity</th>\n",
              "      <th>dewPoint</th>\n",
              "      <th>precipProbability</th>\n",
              "    </tr>\n",
              "  </thead>\n",
              "  <tbody>\n",
              "    <tr>\n",
              "      <th>count</th>\n",
              "      <td>8399.000000</td>\n",
              "      <td>8399.000000</td>\n",
              "      <td>8399.000000</td>\n",
              "      <td>8399.000000</td>\n",
              "      <td>8399.000000</td>\n",
              "      <td>8399.000000</td>\n",
              "      <td>8399.000000</td>\n",
              "      <td>8399.000000</td>\n",
              "      <td>8399.000000</td>\n",
              "      <td>8399.000000</td>\n",
              "      <td>8399.000000</td>\n",
              "      <td>8399.000000</td>\n",
              "      <td>8399.000000</td>\n",
              "      <td>8399.000000</td>\n",
              "      <td>8399.000000</td>\n",
              "      <td>8399.000000</td>\n",
              "      <td>8399.000000</td>\n",
              "      <td>8399.000000</td>\n",
              "      <td>8399.000000</td>\n",
              "      <td>8399.000000</td>\n",
              "      <td>8399.000000</td>\n",
              "      <td>8399.000000</td>\n",
              "    </tr>\n",
              "    <tr>\n",
              "      <th>mean</th>\n",
              "      <td>51.534676</td>\n",
              "      <td>1.881939</td>\n",
              "      <td>4.876923</td>\n",
              "      <td>3.813158</td>\n",
              "      <td>2.528048</td>\n",
              "      <td>0.848297</td>\n",
              "      <td>3.511565</td>\n",
              "      <td>0.938465</td>\n",
              "      <td>0.658940</td>\n",
              "      <td>2.118642</td>\n",
              "      <td>4.573493</td>\n",
              "      <td>14.158526</td>\n",
              "      <td>6.941272</td>\n",
              "      <td>50.741005</td>\n",
              "      <td>0.664097</td>\n",
              "      <td>9.253414</td>\n",
              "      <td>48.262262</td>\n",
              "      <td>6.649940</td>\n",
              "      <td>202.355870</td>\n",
              "      <td>0.002599</td>\n",
              "      <td>38.693571</td>\n",
              "      <td>0.056480</td>\n",
              "    </tr>\n",
              "    <tr>\n",
              "      <th>std</th>\n",
              "      <td>48.398038</td>\n",
              "      <td>7.136702</td>\n",
              "      <td>5.619182</td>\n",
              "      <td>2.622486</td>\n",
              "      <td>2.840209</td>\n",
              "      <td>0.359387</td>\n",
              "      <td>6.370624</td>\n",
              "      <td>2.062920</td>\n",
              "      <td>2.159726</td>\n",
              "      <td>4.902443</td>\n",
              "      <td>7.428225</td>\n",
              "      <td>12.201422</td>\n",
              "      <td>8.446124</td>\n",
              "      <td>19.096105</td>\n",
              "      <td>0.193418</td>\n",
              "      <td>1.589102</td>\n",
              "      <td>22.004686</td>\n",
              "      <td>3.922501</td>\n",
              "      <td>100.930971</td>\n",
              "      <td>0.010823</td>\n",
              "      <td>19.082478</td>\n",
              "      <td>0.161169</td>\n",
              "    </tr>\n",
              "    <tr>\n",
              "      <th>min</th>\n",
              "      <td>0.048000</td>\n",
              "      <td>0.000000</td>\n",
              "      <td>0.004998</td>\n",
              "      <td>0.006000</td>\n",
              "      <td>0.001002</td>\n",
              "      <td>0.003000</td>\n",
              "      <td>0.004998</td>\n",
              "      <td>0.000000</td>\n",
              "      <td>0.000000</td>\n",
              "      <td>0.000000</td>\n",
              "      <td>0.013000</td>\n",
              "      <td>0.018002</td>\n",
              "      <td>0.006000</td>\n",
              "      <td>-12.589000</td>\n",
              "      <td>0.130000</td>\n",
              "      <td>0.283333</td>\n",
              "      <td>-31.354667</td>\n",
              "      <td>0.168000</td>\n",
              "      <td>0.000000</td>\n",
              "      <td>0.000000</td>\n",
              "      <td>-27.170333</td>\n",
              "      <td>0.000000</td>\n",
              "    </tr>\n",
              "    <tr>\n",
              "      <th>25%</th>\n",
              "      <td>25.775450</td>\n",
              "      <td>0.000418</td>\n",
              "      <td>2.436692</td>\n",
              "      <td>2.132825</td>\n",
              "      <td>0.439200</td>\n",
              "      <td>0.767083</td>\n",
              "      <td>1.810617</td>\n",
              "      <td>0.059450</td>\n",
              "      <td>0.233142</td>\n",
              "      <td>0.090783</td>\n",
              "      <td>0.201983</td>\n",
              "      <td>5.216475</td>\n",
              "      <td>2.714035</td>\n",
              "      <td>35.784000</td>\n",
              "      <td>0.514917</td>\n",
              "      <td>9.406333</td>\n",
              "      <td>31.056667</td>\n",
              "      <td>3.670167</td>\n",
              "      <td>152.958333</td>\n",
              "      <td>0.000000</td>\n",
              "      <td>24.535083</td>\n",
              "      <td>0.000000</td>\n",
              "    </tr>\n",
              "    <tr>\n",
              "      <th>50%</th>\n",
              "      <td>40.558717</td>\n",
              "      <td>0.002667</td>\n",
              "      <td>2.550317</td>\n",
              "      <td>3.380300</td>\n",
              "      <td>0.866033</td>\n",
              "      <td>0.778117</td>\n",
              "      <td>1.929733</td>\n",
              "      <td>0.060367</td>\n",
              "      <td>0.239983</td>\n",
              "      <td>0.097983</td>\n",
              "      <td>0.258433</td>\n",
              "      <td>7.501433</td>\n",
              "      <td>4.189485</td>\n",
              "      <td>50.341000</td>\n",
              "      <td>0.681333</td>\n",
              "      <td>9.997833</td>\n",
              "      <td>50.111667</td>\n",
              "      <td>5.900000</td>\n",
              "      <td>207.083333</td>\n",
              "      <td>0.000000</td>\n",
              "      <td>38.970667</td>\n",
              "      <td>0.000000</td>\n",
              "    </tr>\n",
              "    <tr>\n",
              "      <th>75%</th>\n",
              "      <td>61.007775</td>\n",
              "      <td>0.010292</td>\n",
              "      <td>4.536300</td>\n",
              "      <td>4.894092</td>\n",
              "      <td>4.509825</td>\n",
              "      <td>0.789875</td>\n",
              "      <td>2.193458</td>\n",
              "      <td>0.065958</td>\n",
              "      <td>0.246442</td>\n",
              "      <td>0.116583</td>\n",
              "      <td>5.484800</td>\n",
              "      <td>20.746417</td>\n",
              "      <td>7.170001</td>\n",
              "      <td>66.300917</td>\n",
              "      <td>0.835333</td>\n",
              "      <td>10.000000</td>\n",
              "      <td>66.300917</td>\n",
              "      <td>8.888500</td>\n",
              "      <td>290.591667</td>\n",
              "      <td>0.000000</td>\n",
              "      <td>54.801583</td>\n",
              "      <td>0.000000</td>\n",
              "    </tr>\n",
              "    <tr>\n",
              "      <th>max</th>\n",
              "      <td>574.811067</td>\n",
              "      <td>49.475367</td>\n",
              "      <td>39.994233</td>\n",
              "      <td>23.459183</td>\n",
              "      <td>46.992567</td>\n",
              "      <td>17.666050</td>\n",
              "      <td>108.786283</td>\n",
              "      <td>31.924767</td>\n",
              "      <td>40.893600</td>\n",
              "      <td>21.482917</td>\n",
              "      <td>32.710450</td>\n",
              "      <td>70.653717</td>\n",
              "      <td>75.499868</td>\n",
              "      <td>93.503667</td>\n",
              "      <td>0.980000</td>\n",
              "      <td>10.000000</td>\n",
              "      <td>100.930667</td>\n",
              "      <td>22.674000</td>\n",
              "      <td>358.833333</td>\n",
              "      <td>0.179407</td>\n",
              "      <td>75.425333</td>\n",
              "      <td>0.838667</td>\n",
              "    </tr>\n",
              "  </tbody>\n",
              "</table>\n",
              "</div>"
            ],
            "text/plain": [
              "               use   Dishwasher  ...     dewPoint  precipProbability\n",
              "count  8399.000000  8399.000000  ...  8399.000000        8399.000000\n",
              "mean     51.534676     1.881939  ...    38.693571           0.056480\n",
              "std      48.398038     7.136702  ...    19.082478           0.161169\n",
              "min       0.048000     0.000000  ...   -27.170333           0.000000\n",
              "25%      25.775450     0.000418  ...    24.535083           0.000000\n",
              "50%      40.558717     0.002667  ...    38.970667           0.000000\n",
              "75%      61.007775     0.010292  ...    54.801583           0.000000\n",
              "max     574.811067    49.475367  ...    75.425333           0.838667\n",
              "\n",
              "[8 rows x 22 columns]"
            ]
          },
          "metadata": {
            "tags": []
          },
          "execution_count": 177
        }
      ]
    },
    {
      "cell_type": "code",
      "metadata": {
        "colab": {
          "base_uri": "https://localhost:8080/",
          "height": 268
        },
        "id": "l5wwNfyE4Cp9",
        "outputId": "2328d935-0ac4-472c-dfd9-9aa8b19cd3c2"
      },
      "source": [
        "training_set = df_hr.iloc[:,:].values\n",
        "plt.plot(training_set)\n",
        "plt.show()"
      ],
      "execution_count": 178,
      "outputs": [
        {
          "output_type": "display_data",
          "data": {
            "image/png": "[encoded data removed]",
            "text/plain": [
              "<Figure size 432x288 with 1 Axes>"
            ]
          },
          "metadata": {
            "tags": [],
            "needs_background": "light"
          }
        }
      ]
    },
    {
      "cell_type": "markdown",
      "metadata": {
        "id": "jdWC_3sG36Hc"
      },
      "source": [
        "#Data Preprocessing"
      ]
    },
    {
      "cell_type": "code",
      "metadata": {
        "id": "7OkY-smD2FiK"
      },
      "source": [
        "def sliding_windows(data, seq_length):\n",
        "    x = []\n",
        "    y = []\n",
        "\n",
        "    for i in range(len(data)-seq_length-1):\n",
        "        _x = data[i:(i+seq_length)]\n",
        "        _y = data[i+seq_length]\n",
        "        x.append(_x)\n",
        "        y.append(_y)\n",
        "\n",
        "    return np.array(x),np.array(y)\n",
        "\n",
        "sc = MinMaxScaler()\n",
        "training_data = sc.fit_transform(training_set)\n",
        "\n",
        "seq_length = 24\n",
        "x, y = sliding_windows(training_data, seq_length)\n",
        "\n",
        "train_size = int(len(y) * 0.67)\n",
        "test_size = len(y) - train_size\n",
        "\n",
        "dataX = Variable(torch.Tensor(np.array(x))).to(device)\n",
        "dataY = Variable(torch.Tensor(np.array(y))).to(device)\n",
        "\n",
        "trainX = Variable(torch.Tensor(np.array(x[0:train_size]))).to(device)\n",
        "trainY = Variable(torch.Tensor(np.array(y[0:train_size]))).to(device)\n",
        "\n",
        "testX = Variable(torch.Tensor(np.array(x[train_size:len(x)]))).to(device)\n",
        "testY = Variable(torch.Tensor(np.array(y[train_size:len(y)]))).to(device)"
      ],
      "execution_count": 179,
      "outputs": []
    },
    {
      "cell_type": "code",
      "metadata": {
        "colab": {
          "base_uri": "https://localhost:8080/"
        },
        "id": "BP9xEYvedMyI",
        "outputId": "d90159a6-b18c-4af6-a413-aa4b8d812c97"
      },
      "source": [
        "testX.shape"
      ],
      "execution_count": 7,
      "outputs": [
        {
          "output_type": "execute_result",
          "data": {
            "text/plain": [
              "torch.Size([2764, 24, 24])"
            ]
          },
          "metadata": {
            "tags": []
          },
          "execution_count": 7
        }
      ]
    },
    {
      "cell_type": "markdown",
      "metadata": {
        "id": "MvFFDtsTAeMV"
      },
      "source": [
        "#Models"
      ]
    },
    {
      "cell_type": "code",
      "metadata": {
        "id": "Y1mI6vEIAbHs"
      },
      "source": [
        "class LSTM(nn.Module):\n",
        "\n",
        "    def __init__(self, num_classes, input_size, hidden_size, num_layers):\n",
        "        super(LSTM, self).__init__()\n",
        "        \n",
        "        self.num_classes = num_classes\n",
        "        self.num_layers = num_layers\n",
        "        self.input_size = input_size\n",
        "        self.hidden_size = hidden_size\n",
        "        self.seq_length = seq_length\n",
        "        \n",
        "        self.lstm = nn.LSTM(input_size=input_size, hidden_size=hidden_size,\n",
        "                            num_layers=num_layers, batch_first=True)\n",
        "        \n",
        "        self.fc = nn.Linear(hidden_size, num_classes)\n",
        "\n",
        "    def forward(self, x):\n",
        "        h_0 = Variable(torch.zeros(\n",
        "            self.num_layers, x.size(0), self.hidden_size)).cuda()\n",
        "        \n",
        "        c_0 = Variable(torch.zeros(\n",
        "            self.num_layers, x.size(0), self.hidden_size)).cuda()\n",
        "        \n",
        "        # Propagate input through LSTM\n",
        "        ula, (h_out, _) = self.lstm(x, (h_0, c_0))\n",
        "        \n",
        "        h_out = h_out.view(-1, self.hidden_size)\n",
        "        \n",
        "        out = self.fc(h_out)\n",
        "        \n",
        "        out = torch.clip(out, 0)\n",
        "        return out"
      ],
      "execution_count": 199,
      "outputs": []
    },
    {
      "cell_type": "markdown",
      "metadata": {
        "id": "HAGginJcJ7ma"
      },
      "source": [
        "#Training"
      ]
    },
    {
      "cell_type": "code",
      "metadata": {
        "colab": {
          "base_uri": "https://localhost:8080/"
        },
        "id": "e0CvSxAgI3rx",
        "outputId": "fe1409a7-5eac-4148-831c-3783f0ffb0d8"
      },
      "source": [
        "num_epochs = 5000\n",
        "learning_rate = 0.001\n",
        "\n",
        "input_size = 22\n",
        "hidden_size = 15\n",
        "num_layers = 1\n",
        "\n",
        "num_classes = 22\n",
        "\n",
        "lstm = LSTM(num_classes, input_size, hidden_size, num_layers)\n",
        "lstm = lstm.to(device)\n",
        "\n",
        "criterion = torch.nn.MSELoss()    # mean-squared error for regression\n",
        "optimizer = torch.optim.Adam(lstm.parameters(), lr=learning_rate)\n",
        "loss_ = []\n",
        "# Train the model\n",
        "for epoch in range(num_epochs):\n",
        "    outputs = lstm(trainX)\n",
        "    optimizer.zero_grad()\n",
        "    # obtain the loss function\n",
        "    loss = criterion(outputs, trainY)\n",
        "    loss.backward()\n",
        "    loss_.append(loss)\n",
        "    optimizer.step()\n",
        "    if epoch % 100 == 0:\n",
        "      print(\"Epoch: %d, loss: %1.5f\" % (epoch, loss.item()))"
      ],
      "execution_count": 200,
      "outputs": [
        {
          "output_type": "stream",
          "text": [
            "Epoch: 0, loss: 0.12251\n",
            "Epoch: 100, loss: 0.02672\n",
            "Epoch: 200, loss: 0.02344\n",
            "Epoch: 300, loss: 0.01978\n",
            "Epoch: 400, loss: 0.01788\n",
            "Epoch: 500, loss: 0.01679\n",
            "Epoch: 600, loss: 0.01606\n",
            "Epoch: 700, loss: 0.01547\n",
            "Epoch: 800, loss: 0.01495\n",
            "Epoch: 900, loss: 0.01452\n",
            "Epoch: 1000, loss: 0.01419\n",
            "Epoch: 1100, loss: 0.01394\n",
            "Epoch: 1200, loss: 0.01375\n",
            "Epoch: 1300, loss: 0.01360\n",
            "Epoch: 1400, loss: 0.01347\n",
            "Epoch: 1500, loss: 0.01336\n",
            "Epoch: 1600, loss: 0.01327\n",
            "Epoch: 1700, loss: 0.01318\n",
            "Epoch: 1800, loss: 0.01309\n",
            "Epoch: 1900, loss: 0.01301\n",
            "Epoch: 2000, loss: 0.01294\n",
            "Epoch: 2100, loss: 0.01288\n",
            "Epoch: 2200, loss: 0.01283\n",
            "Epoch: 2300, loss: 0.01279\n",
            "Epoch: 2400, loss: 0.01275\n",
            "Epoch: 2500, loss: 0.01271\n",
            "Epoch: 2600, loss: 0.01268\n",
            "Epoch: 2700, loss: 0.01264\n",
            "Epoch: 2800, loss: 0.01261\n",
            "Epoch: 2900, loss: 0.01259\n",
            "Epoch: 3000, loss: 0.01256\n",
            "Epoch: 3100, loss: 0.01253\n",
            "Epoch: 3200, loss: 0.01251\n",
            "Epoch: 3300, loss: 0.01248\n",
            "Epoch: 3400, loss: 0.01246\n",
            "Epoch: 3500, loss: 0.01243\n",
            "Epoch: 3600, loss: 0.01241\n",
            "Epoch: 3700, loss: 0.01239\n",
            "Epoch: 3800, loss: 0.01222\n",
            "Epoch: 3900, loss: 0.01217\n",
            "Epoch: 4000, loss: 0.01215\n",
            "Epoch: 4100, loss: 0.01212\n",
            "Epoch: 4200, loss: 0.01210\n",
            "Epoch: 4300, loss: 0.01207\n",
            "Epoch: 4400, loss: 0.01204\n",
            "Epoch: 4500, loss: 0.01202\n",
            "Epoch: 4600, loss: 0.01199\n",
            "Epoch: 4700, loss: 0.01196\n",
            "Epoch: 4800, loss: 0.01192\n",
            "Epoch: 4900, loss: 0.01189\n"
          ],
          "name": "stdout"
        }
      ]
    },
    {
      "cell_type": "code",
      "metadata": {
        "colab": {
          "base_uri": "https://localhost:8080/",
          "height": 55
        },
        "id": "KfX1HKlOJ_GE",
        "outputId": "c3c2d5de-4ae3-409b-e5b0-4aa1e6067dd2"
      },
      "source": [
        "plt.plot(loss_)\n",
        "plt.xlabel('Epoch')\n",
        "plt.ylabel('Loss')\n",
        "# Save the trained model\n",
        "PATH = './lstm_withWeather.pth'\n",
        "torch.save(lstm.state_dict(), PATH)"
      ],
      "execution_count": 201,
      "outputs": [
        {
          "output_type": "display_data",
          "data": {
            "image/png": "[encoded data removed]",
            "text/plain": [
              "<Figure size 432x288 with 1 Axes>"
            ]
          },
          "metadata": {
            "tags": [],
            "needs_background": "light"
          }
        }
      ]
    },
    {
      "cell_type": "markdown",
      "metadata": {
        "id": "-VXUVGdqKFXC"
      },
      "source": [
        "#Testing"
      ]
    },
    {
      "cell_type": "markdown",
      "metadata": {
        "id": "M9r0d2rRG0Mc"
      },
      "source": [
        "Load the pre-trained model"
      ]
    },
    {
      "cell_type": "code",
      "metadata": {
        "id": "TuEWb42_KFQ-"
      },
      "source": [
        "input_size = 22\n",
        "hidden_size = 15\n",
        "num_layers = 1\n",
        "\n",
        "num_classes = 22\n",
        "\n",
        "lstm = LSTM(num_classes, input_size, hidden_size, num_layers)\n",
        "PATH_lstm = './lstm_withWeather.pth'\n",
        "lstm.load_state_dict(torch.load(PATH_lstm))\n",
        "lstm = lstm.to(device)"
      ],
      "execution_count": 202,
      "outputs": []
    },
    {
      "cell_type": "markdown",
      "metadata": {
        "id": "p_xspMdXLfOw"
      },
      "source": [
        "Generate a Excel file that includes predicted power"
      ]
    },
    {
      "cell_type": "code",
      "metadata": {
        "id": "OKLqGo0tL3Rg"
      },
      "source": [
        "Y_predicted = lstm(dataX)\n",
        "Y_predicted = Y_predicted.data.cpu().detach().numpy()\n",
        "Y_predicted = sc.inverse_transform(Y_predicted)\n",
        "Y_actual = sc.inverse_transform(dataY.cpu().detach().numpy())"
      ],
      "execution_count": 203,
      "outputs": []
    },
    {
      "cell_type": "code",
      "metadata": {
        "colab": {
          "base_uri": "https://localhost:8080/",
          "height": 296
        },
        "id": "RIBrloVoRWtB",
        "outputId": "3f750bd6-36c7-415f-8dc8-5de62441ca42"
      },
      "source": [
        "feature = 0\n",
        "f = plt.figure(figsize=(15,4))\n",
        "plt.plot(Y_predicted[8000:8500,feature])\n",
        "plt.plot(Y_actual[8000:8500,feature])\n",
        "plt.title(df_hr.columns[feature])\n",
        "plt.xlabel('Time(hrs)')\n",
        "plt.ylabel('Energy[kW]')\n",
        "plt.legend(['Actual','Predicted_Recursive','Predicted_onetime'])\n",
        "plt.show()"
      ],
      "execution_count": 223,
      "outputs": [
        {
          "output_type": "display_data",
          "data": {
            "image/png": "[encoded data removed]",
            "text/plain": [
              "<Figure size 1080x288 with 1 Axes>"
            ]
          },
          "metadata": {
            "tags": [],
            "needs_background": "light"
          }
        }
      ]
    },
    {
      "cell_type": "code",
      "metadata": {
        "id": "sq3HW3eRNrIl"
      },
      "source": [
        "target_col = ['use_pred','Dishwasher_pred','Home office_pred','Fridge_pred','Wine cellar_pred','Garage door_pred','Barn_pred','Well_pred','Microwave_pred','Living room_pred','Solar_pred', 'All_Furnace_pred' ,'All_Kitchen_pred']\n",
        "df_pred = pd.DataFrame(Y_predicted[:,:13],columns=target_col,index=df.tail(Y_predicted.shape[0]).index)"
      ],
      "execution_count": 206,
      "outputs": []
    },
    {
      "cell_type": "code",
      "metadata": {
        "id": "yfamirfNSE94"
      },
      "source": [
        "new_df = pd.concat([df_hr, df_pred], axis=1)"
      ],
      "execution_count": 224,
      "outputs": []
    },
    {
      "cell_type": "code",
      "metadata": {
        "id": "jPwF5JD6Sddl"
      },
      "source": [
        "new_df.to_csv('New_df.csv')"
      ],
      "execution_count": 225,
      "outputs": []
    },
    {
      "cell_type": "markdown",
      "metadata": {
        "id": "fSw6YGL5G3CF"
      },
      "source": [
        "Recursive multi-step forecast"
      ]
    },
    {
      "cell_type": "code",
      "metadata": {
        "id": "yemOs8pXKUu7"
      },
      "source": [
        "# make a recursive multi-step forecast\n",
        "def forecast(model, input_x, n_input, pred_steps):\n",
        "    yhat_sequence = torch.empty(0,input_x.shape[-1]).to(device)\n",
        "    input_data = input_x\n",
        "    for j in range(pred_steps):\n",
        "      # prepare the input data\n",
        "      X = input_data[:,-n_input:,:]\n",
        "      # make a one-step forecast\n",
        "      yhat = model(X)\n",
        "      # add to the result\n",
        "      yhat_sequence = torch.cat((yhat_sequence,yhat), 0)\n",
        "      # add the prediction to the input\n",
        "      input_data = torch.cat((input_data,yhat.reshape(1,yhat.shape[0],yhat.shape[1])), 1)\n",
        "    return yhat_sequence\n",
        "\n",
        "n_input = 48 #look at last 24 hrs\n",
        "pred_steps = 24 #predict the next # hrs reccursively \n",
        "\n",
        "# predict the week, recursively\n",
        "yhat_sequence = forecast(lstm, testX[0,:,:].reshape(1,testX.shape[1],testX.shape[2]), n_input, pred_steps)\n",
        "\n",
        "yhat_sequence = yhat_sequence.data.cpu().detach().numpy()\n",
        "data_predict = sc.inverse_transform(yhat_sequence)\n",
        "data_actual = sc.inverse_transform(testY.cpu().detach().numpy())"
      ],
      "execution_count": 153,
      "outputs": []
    },
    {
      "cell_type": "markdown",
      "metadata": {
        "id": "pjDI9P4zJWXs"
      },
      "source": [
        "Actual forecast "
      ]
    },
    {
      "cell_type": "code",
      "metadata": {
        "id": "WsGW8JXwICGw"
      },
      "source": [
        "yhat_onetime_pred = lstm(testX[0:pred_steps,:,:])\n",
        "yhat_onetime_pred = yhat_onetime_pred.data.cpu().detach().numpy()\n",
        "data_predict_onetime = sc.inverse_transform(yhat_onetime_pred)"
      ],
      "execution_count": 154,
      "outputs": []
    },
    {
      "cell_type": "markdown",
      "metadata": {
        "id": "pIBgm_AbG7ML"
      },
      "source": [
        "Forecast hourly error"
      ]
    },
    {
      "cell_type": "code",
      "metadata": {
        "id": "PyAgIpTQF6SY"
      },
      "source": [
        "from sklearn.metrics import mean_squared_error\n",
        "# evaluate one or more hrs forecasts against expected values\n",
        "# make a recursive multi-step forecast\n",
        "def evaluate_forecasts(actual, predicted):\n",
        "    scores = []\n",
        "    for i in range(actual.shape[0]):\n",
        "      # calculate an RMSE score for each hour\n",
        "      mse = mean_squared_error(actual[i, :], predicted[i, :])\n",
        "      rmse = np.sqrt(mse)\n",
        "      scores.append(rmse)\n",
        "    return scores\n",
        "\n",
        "scores = evaluate_forecasts(data_actual[0:pred_steps,:],data_predict)"
      ],
      "execution_count": 155,
      "outputs": []
    },
    {
      "cell_type": "code",
      "metadata": {
        "colab": {
          "base_uri": "https://localhost:8080/",
          "height": 297
        },
        "id": "RTE2_CEwGatc",
        "outputId": "0b193878-adb6-4674-e91c-164ab89e886d"
      },
      "source": [
        "plt.plot(scores)\n",
        "plt.xlabel('Time(hrs)')\n",
        "plt.ylabel('Error')"
      ],
      "execution_count": 156,
      "outputs": [
        {
          "output_type": "execute_result",
          "data": {
            "text/plain": [
              "Text(0, 0.5, 'Error')"
            ]
          },
          "metadata": {
            "tags": []
          },
          "execution_count": 156
        },
        {
          "output_type": "display_data",
          "data": {
            "image/png": "[encoded data removed]",
            "text/plain": [
              "<Figure size 432x288 with 1 Axes>"
            ]
          },
          "metadata": {
            "tags": [],
            "needs_background": "light"
          }
        }
      ]
    },
    {
      "cell_type": "code",
      "metadata": {
        "colab": {
          "base_uri": "https://localhost:8080/",
          "height": 296
        },
        "id": "iq-jePL6euTV",
        "outputId": "33034451-d953-4cbc-c2fe-ecbbb3b1bc44"
      },
      "source": [
        "feature = 7\n",
        "f = plt.figure(figsize=(15,4))\n",
        "plt.plot(data_actual[0:pred_steps,feature])\n",
        "plt.plot(data_predict[:,feature])\n",
        "plt.plot(data_predict_onetime[:,feature])\n",
        "plt.title(df_hr.columns[feature])\n",
        "plt.xlabel('Time(hrs)')\n",
        "plt.ylabel('Energy[kW]')\n",
        "plt.legend(['Actual','Predicted_Recursive','Predicted_onetime'])\n",
        "plt.show()"
      ],
      "execution_count": 163,
      "outputs": [
        {
          "output_type": "display_data",
          "data": {
            "image/png": "[encoded data removed]",
            "text/plain": [
              "<Figure size 1080x288 with 1 Axes>"
            ]
          },
          "metadata": {
            "tags": [],
            "needs_background": "light"
          }
        }
      ]
    },
    {
      "cell_type": "code",
      "metadata": {
        "id": "P1vEHS5Qukvu"
      },
      "source": [
        ""
      ],
      "execution_count": 157,
      "outputs": []
    }
  ]
}