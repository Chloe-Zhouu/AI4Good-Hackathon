{
  "nbformat": 4,
  "nbformat_minor": 0,
  "metadata": {
    "colab": {
      "name": "Energy Forecasting using LSTM(with Weather).ipynb",
      "provenance": [],
      "collapsed_sections": [
        "jdWC_3sG36Hc",
        "MvFFDtsTAeMV"
      ]
    },
    "kernelspec": {
      "name": "python3",
      "display_name": "Python 3"
    },
    "language_info": {
      "name": "python"
    }
  },
  "cells": [
    {
      "cell_type": "markdown",
      "metadata": {
        "id": "s1UT_JZCvFt9"
      },
      "source": [
        "#Import Libraries"
      ]
    },
    {
      "cell_type": "code",
      "metadata": {
        "id": "Ou29mLC7tvbm"
      },
      "source": [
        "import numpy as np\n",
        "import matplotlib.pyplot as plt\n",
        "import pandas as pd\n",
        "import torch\n",
        "import torch.nn as nn\n",
        "from torch.autograd import Variable\n",
        "from sklearn.preprocessing import MinMaxScaler\n",
        "from sklearn.preprocessing import quantile_transform\n",
        "from tqdm import tqdm_notebook as tqdm\n",
        "from torch.utils.data import Dataset,DataLoader"
      ],
      "execution_count": 1,
      "outputs": []
    },
    {
      "cell_type": "markdown",
      "metadata": {
        "id": "fynB5GEqybzq"
      },
      "source": [
        "#Data Exploration"
      ]
    },
    {
      "cell_type": "code",
      "metadata": {
        "colab": {
          "base_uri": "https://localhost:8080/"
        },
        "id": "9qGtpo8FvFdq",
        "outputId": "e557ccc4-a697-4df6-9b0f-89e8082adec9"
      },
      "source": [
        "df = pd.read_csv('Sensors.csv')\n",
        "df.drop(df.tail(1).index,inplace=True) #remove the last row\n",
        "df['All_Furnace'] = df[['Furnace 1 [kW]','Furnace 2 [kW]']].sum(axis=1)\n",
        "df['All_Kitchen'] = df[['Kitchen 12 [kW]','Kitchen 14 [kW]','Kitchen 38 [kW]']].mean(axis=1)\n",
        "df = df.drop(['icon', 'summary', 'cloudCover','time','Kitchen 12 [kW]', 'Kitchen 14 [kW]', 'Kitchen 38 [kW]', 'Furnace 1 [kW]', 'Furnace 2 [kW]'], axis=1)\n",
        "time_index = pd.date_range('2016-01-01 05:00', periods=len(df), freq='min')  \n",
        "time_index = pd.DatetimeIndex(time_index)\n",
        "df = df.set_index(time_index)"
      ],
      "execution_count": null,
      "outputs": [
        {
          "output_type": "stream",
          "text": [
            "/usr/local/lib/python3.7/dist-packages/IPython/core/interactiveshell.py:2718: DtypeWarning: Columns (0,27) have mixed types.Specify dtype option on import or set low_memory=False.\n",
            "  interactivity=interactivity, compiler=compiler, result=result)\n"
          ],
          "name": "stderr"
        }
      ]
    },
    {
      "cell_type": "code",
      "metadata": {
        "colab": {
          "base_uri": "https://localhost:8080/",
          "height": 439
        },
        "id": "vWyYnYJ0Et92",
        "outputId": "c716003f-4194-4f46-e7e3-6a5ad1758a52"
      },
      "source": [
        "df.head()"
      ],
      "execution_count": null,
      "outputs": [
        {
          "output_type": "execute_result",
          "data": {
            "text/html": [
              "<div>\n",
              "<style scoped>\n",
              "    .dataframe tbody tr th:only-of-type {\n",
              "        vertical-align: middle;\n",
              "    }\n",
              "\n",
              "    .dataframe tbody tr th {\n",
              "        vertical-align: top;\n",
              "    }\n",
              "\n",
              "    .dataframe thead th {\n",
              "        text-align: right;\n",
              "    }\n",
              "</style>\n",
              "<table border=\"1\" class=\"dataframe\">\n",
              "  <thead>\n",
              "    <tr style=\"text-align: right;\">\n",
              "      <th></th>\n",
              "      <th>use [kW]</th>\n",
              "      <th>gen [kW]</th>\n",
              "      <th>House overall [kW]</th>\n",
              "      <th>Dishwasher [kW]</th>\n",
              "      <th>Home office [kW]</th>\n",
              "      <th>Fridge [kW]</th>\n",
              "      <th>Wine cellar [kW]</th>\n",
              "      <th>Garage door [kW]</th>\n",
              "      <th>Barn [kW]</th>\n",
              "      <th>Well [kW]</th>\n",
              "      <th>Microwave [kW]</th>\n",
              "      <th>Living room [kW]</th>\n",
              "      <th>Solar [kW]</th>\n",
              "      <th>temperature</th>\n",
              "      <th>humidity</th>\n",
              "      <th>visibility</th>\n",
              "      <th>apparentTemperature</th>\n",
              "      <th>pressure</th>\n",
              "      <th>windSpeed</th>\n",
              "      <th>windBearing</th>\n",
              "      <th>precipIntensity</th>\n",
              "      <th>dewPoint</th>\n",
              "      <th>precipProbability</th>\n",
              "      <th>All_Furnace</th>\n",
              "      <th>All_Kitchen</th>\n",
              "    </tr>\n",
              "  </thead>\n",
              "  <tbody>\n",
              "    <tr>\n",
              "      <th>2016-01-01 05:00:00</th>\n",
              "      <td>0.932833</td>\n",
              "      <td>0.003483</td>\n",
              "      <td>0.932833</td>\n",
              "      <td>0.000033</td>\n",
              "      <td>0.442633</td>\n",
              "      <td>0.124150</td>\n",
              "      <td>0.006983</td>\n",
              "      <td>0.013083</td>\n",
              "      <td>0.031350</td>\n",
              "      <td>0.001017</td>\n",
              "      <td>0.004067</td>\n",
              "      <td>0.001517</td>\n",
              "      <td>0.003483</td>\n",
              "      <td>36.14</td>\n",
              "      <td>0.62</td>\n",
              "      <td>10.0</td>\n",
              "      <td>29.26</td>\n",
              "      <td>1016.91</td>\n",
              "      <td>9.18</td>\n",
              "      <td>282.0</td>\n",
              "      <td>0.0</td>\n",
              "      <td>24.4</td>\n",
              "      <td>0.0</td>\n",
              "      <td>0.082617</td>\n",
              "      <td>0.000189</td>\n",
              "    </tr>\n",
              "    <tr>\n",
              "      <th>2016-01-01 05:01:00</th>\n",
              "      <td>0.934333</td>\n",
              "      <td>0.003467</td>\n",
              "      <td>0.934333</td>\n",
              "      <td>0.000000</td>\n",
              "      <td>0.444067</td>\n",
              "      <td>0.124000</td>\n",
              "      <td>0.006983</td>\n",
              "      <td>0.013117</td>\n",
              "      <td>0.031500</td>\n",
              "      <td>0.001017</td>\n",
              "      <td>0.004067</td>\n",
              "      <td>0.001650</td>\n",
              "      <td>0.003467</td>\n",
              "      <td>36.14</td>\n",
              "      <td>0.62</td>\n",
              "      <td>10.0</td>\n",
              "      <td>29.26</td>\n",
              "      <td>1016.91</td>\n",
              "      <td>9.18</td>\n",
              "      <td>282.0</td>\n",
              "      <td>0.0</td>\n",
              "      <td>24.4</td>\n",
              "      <td>0.0</td>\n",
              "      <td>0.084533</td>\n",
              "      <td>0.000189</td>\n",
              "    </tr>\n",
              "    <tr>\n",
              "      <th>2016-01-01 05:02:00</th>\n",
              "      <td>0.931817</td>\n",
              "      <td>0.003467</td>\n",
              "      <td>0.931817</td>\n",
              "      <td>0.000017</td>\n",
              "      <td>0.446067</td>\n",
              "      <td>0.123533</td>\n",
              "      <td>0.006983</td>\n",
              "      <td>0.013083</td>\n",
              "      <td>0.031517</td>\n",
              "      <td>0.001000</td>\n",
              "      <td>0.004067</td>\n",
              "      <td>0.001650</td>\n",
              "      <td>0.003467</td>\n",
              "      <td>36.14</td>\n",
              "      <td>0.62</td>\n",
              "      <td>10.0</td>\n",
              "      <td>29.26</td>\n",
              "      <td>1016.91</td>\n",
              "      <td>9.18</td>\n",
              "      <td>282.0</td>\n",
              "      <td>0.0</td>\n",
              "      <td>24.4</td>\n",
              "      <td>0.0</td>\n",
              "      <td>0.083017</td>\n",
              "      <td>0.000206</td>\n",
              "    </tr>\n",
              "    <tr>\n",
              "      <th>2016-01-01 05:03:00</th>\n",
              "      <td>1.022050</td>\n",
              "      <td>0.003483</td>\n",
              "      <td>1.022050</td>\n",
              "      <td>0.000017</td>\n",
              "      <td>0.446583</td>\n",
              "      <td>0.123133</td>\n",
              "      <td>0.006983</td>\n",
              "      <td>0.013000</td>\n",
              "      <td>0.031500</td>\n",
              "      <td>0.001017</td>\n",
              "      <td>0.004067</td>\n",
              "      <td>0.001617</td>\n",
              "      <td>0.003483</td>\n",
              "      <td>36.14</td>\n",
              "      <td>0.62</td>\n",
              "      <td>10.0</td>\n",
              "      <td>29.26</td>\n",
              "      <td>1016.91</td>\n",
              "      <td>9.18</td>\n",
              "      <td>282.0</td>\n",
              "      <td>0.0</td>\n",
              "      <td>24.4</td>\n",
              "      <td>0.0</td>\n",
              "      <td>0.175417</td>\n",
              "      <td>0.000217</td>\n",
              "    </tr>\n",
              "    <tr>\n",
              "      <th>2016-01-01 05:04:00</th>\n",
              "      <td>1.139400</td>\n",
              "      <td>0.003467</td>\n",
              "      <td>1.139400</td>\n",
              "      <td>0.000133</td>\n",
              "      <td>0.446533</td>\n",
              "      <td>0.122850</td>\n",
              "      <td>0.006850</td>\n",
              "      <td>0.012783</td>\n",
              "      <td>0.031500</td>\n",
              "      <td>0.001017</td>\n",
              "      <td>0.004067</td>\n",
              "      <td>0.001583</td>\n",
              "      <td>0.003467</td>\n",
              "      <td>36.14</td>\n",
              "      <td>0.62</td>\n",
              "      <td>10.0</td>\n",
              "      <td>29.26</td>\n",
              "      <td>1016.91</td>\n",
              "      <td>9.18</td>\n",
              "      <td>282.0</td>\n",
              "      <td>0.0</td>\n",
              "      <td>24.4</td>\n",
              "      <td>0.0</td>\n",
              "      <td>0.300917</td>\n",
              "      <td>0.000261</td>\n",
              "    </tr>\n",
              "  </tbody>\n",
              "</table>\n",
              "</div>"
            ],
            "text/plain": [
              "                     use [kW]  gen [kW]  ...  All_Furnace  All_Kitchen\n",
              "2016-01-01 05:00:00  0.932833  0.003483  ...     0.082617     0.000189\n",
              "2016-01-01 05:01:00  0.934333  0.003467  ...     0.084533     0.000189\n",
              "2016-01-01 05:02:00  0.931817  0.003467  ...     0.083017     0.000206\n",
              "2016-01-01 05:03:00  1.022050  0.003483  ...     0.175417     0.000217\n",
              "2016-01-01 05:04:00  1.139400  0.003467  ...     0.300917     0.000261\n",
              "\n",
              "[5 rows x 25 columns]"
            ]
          },
          "metadata": {
            "tags": []
          },
          "execution_count": 3
        }
      ]
    },
    {
      "cell_type": "code",
      "metadata": {
        "colab": {
          "base_uri": "https://localhost:8080/",
          "height": 285
        },
        "id": "l5wwNfyE4Cp9",
        "outputId": "9a76827d-e99c-48ee-a6fe-9a6201dcca09"
      },
      "source": [
        "#Approach 1: use each appliance's historical values to predict the next time step value (this notebook's focus)\n",
        "#Approach 2: use weather/humidity and other features as input, and each appliance's power consumption as targets\n",
        "training_set = df.iloc[:,:].values\n",
        "plt.plot(training_set)\n",
        "plt.show()"
      ],
      "execution_count": null,
      "outputs": [
        {
          "output_type": "display_data",
          "data": {
            "image/png": "[encoded data removed]",
            "text/plain": [
              "<Figure size 432x288 with 1 Axes>"
            ]
          },
          "metadata": {
            "tags": [],
            "needs_background": "light"
          }
        }
      ]
    },
    {
      "cell_type": "code",
      "metadata": {
        "colab": {
          "base_uri": "https://localhost:8080/"
        },
        "id": "67lGwatzE6yY",
        "outputId": "67e5160f-fa3c-46ab-9ca1-808348ffebee"
      },
      "source": [
        "df.info()"
      ],
      "execution_count": null,
      "outputs": [
        {
          "output_type": "stream",
          "text": [
            "<class 'pandas.core.frame.DataFrame'>\n",
            "DatetimeIndex: 503910 entries, 2016-01-01 05:00:00 to 2016-12-16 03:29:00\n",
            "Freq: T\n",
            "Data columns (total 25 columns):\n",
            " #   Column               Non-Null Count   Dtype  \n",
            "---  ------               --------------   -----  \n",
            " 0   use [kW]             503910 non-null  float64\n",
            " 1   gen [kW]             503910 non-null  float64\n",
            " 2   House overall [kW]   503910 non-null  float64\n",
            " 3   Dishwasher [kW]      503910 non-null  float64\n",
            " 4   Home office [kW]     503910 non-null  float64\n",
            " 5   Fridge [kW]          503910 non-null  float64\n",
            " 6   Wine cellar [kW]     503910 non-null  float64\n",
            " 7   Garage door [kW]     503910 non-null  float64\n",
            " 8   Barn [kW]            503910 non-null  float64\n",
            " 9   Well [kW]            503910 non-null  float64\n",
            " 10  Microwave [kW]       503910 non-null  float64\n",
            " 11  Living room [kW]     503910 non-null  float64\n",
            " 12  Solar [kW]           503910 non-null  float64\n",
            " 13  temperature          503910 non-null  float64\n",
            " 14  humidity             503910 non-null  float64\n",
            " 15  visibility           503910 non-null  float64\n",
            " 16  apparentTemperature  503910 non-null  float64\n",
            " 17  pressure             503910 non-null  float64\n",
            " 18  windSpeed            503910 non-null  float64\n",
            " 19  windBearing          503910 non-null  float64\n",
            " 20  precipIntensity      503910 non-null  float64\n",
            " 21  dewPoint             503910 non-null  float64\n",
            " 22  precipProbability    503910 non-null  float64\n",
            " 23  All_Furnace          503910 non-null  float64\n",
            " 24  All_Kitchen          503910 non-null  float64\n",
            "dtypes: float64(25)\n",
            "memory usage: 100.0 MB\n"
          ],
          "name": "stdout"
        }
      ]
    },
    {
      "cell_type": "code",
      "metadata": {
        "id": "EnhK6IoVrfj9"
      },
      "source": [
        "import plotly.graph_objs as go\n",
        "from plotly.offline import iplot\n",
        "\n",
        "def plot_dataset(df, title):\n",
        "    data = []\n",
        "    value = go.Scatter(\n",
        "        x=df.index,\n",
        "        y=df.value,\n",
        "        mode=\"lines\",\n",
        "        name=\"values\",\n",
        "        marker=dict(),\n",
        "        text=df.index,\n",
        "        line=dict(color=\"rgba(0,0,0, 0.3)\"),\n",
        "    )\n",
        "    data.append(value)\n",
        "\n",
        "    layout = dict(\n",
        "        title=title,\n",
        "        xaxis=dict(title=\"Date\", ticklen=5, zeroline=False),\n",
        "        yaxis=dict(title=\"Value\", ticklen=5, zeroline=False),\n",
        "    )\n",
        "\n",
        "    fig = dict(data=data, layout=layout)\n",
        "    iplot(fig)"
      ],
      "execution_count": null,
      "outputs": []
    },
    {
      "cell_type": "code",
      "metadata": {
        "id": "h7MHW55Jri5S"
      },
      "source": [
        "df = df.rename(columns={'use [kW]': 'value'})\n",
        "plot_dataset(df, title = 'Energy Consumption at a New York Household' )"
      ],
      "execution_count": null,
      "outputs": []
    },
    {
      "cell_type": "markdown",
      "metadata": {
        "id": "jdWC_3sG36Hc"
      },
      "source": [
        "#Data Preprocessing"
      ]
    },
    {
      "cell_type": "code",
      "metadata": {
        "id": "7OkY-smD2FiK"
      },
      "source": [
        "def sliding_windows(data, seq_length):\n",
        "    x = []\n",
        "    y = []\n",
        "\n",
        "    for i in range(len(data)-seq_length-1):\n",
        "        _x = data[i:(i+seq_length)]\n",
        "        _y = data[i+seq_length]\n",
        "        x.append(_x)\n",
        "        y.append(_y)\n",
        "\n",
        "    return np.array(x),np.array(y)\n",
        "\n",
        "sc = MinMaxScaler()\n",
        "training_data = sc.fit_transform(training_set)\n",
        "\n",
        "seq_length = 7\n",
        "x, y = sliding_windows(training_data, seq_length)\n",
        "\n",
        "train_size = int(len(y) * 0.67)\n",
        "test_size = len(y) - train_size\n",
        "\n",
        "dataX = Variable(torch.Tensor(np.array(x)))\n",
        "dataY = Variable(torch.Tensor(np.array(y)))\n",
        "\n",
        "trainX = Variable(torch.Tensor(np.array(x[0:train_size])))\n",
        "trainY = Variable(torch.Tensor(np.array(y[0:train_size])))\n",
        "\n",
        "testX = Variable(torch.Tensor(np.array(x[train_size:len(x)])))\n",
        "testY = Variable(torch.Tensor(np.array(y[train_size:len(y)])))"
      ],
      "execution_count": null,
      "outputs": []
    },
    {
      "cell_type": "code",
      "metadata": {
        "colab": {
          "base_uri": "https://localhost:8080/"
        },
        "id": "wpb9jkJ63-h0",
        "outputId": "92d185df-c802-4810-d613-0ff6e6ea9632"
      },
      "source": [
        "trainX.shape"
      ],
      "execution_count": null,
      "outputs": [
        {
          "output_type": "execute_result",
          "data": {
            "text/plain": [
              "torch.Size([337614, 7, 25])"
            ]
          },
          "metadata": {
            "tags": []
          },
          "execution_count": 7
        }
      ]
    },
    {
      "cell_type": "code",
      "metadata": {
        "colab": {
          "base_uri": "https://localhost:8080/"
        },
        "id": "Nr-5vAM83-mO",
        "outputId": "e8361596-bd4e-4158-910b-25e880ef7035"
      },
      "source": [
        "trainY.shape"
      ],
      "execution_count": null,
      "outputs": [
        {
          "output_type": "execute_result",
          "data": {
            "text/plain": [
              "torch.Size([337614, 25])"
            ]
          },
          "metadata": {
            "tags": []
          },
          "execution_count": 8
        }
      ]
    },
    {
      "cell_type": "markdown",
      "metadata": {
        "id": "MvFFDtsTAeMV"
      },
      "source": [
        "#Models"
      ]
    },
    {
      "cell_type": "code",
      "metadata": {
        "id": "Y1mI6vEIAbHs"
      },
      "source": [
        "class LSTM(nn.Module):\n",
        "\n",
        "    def __init__(self, num_classes, input_size, hidden_size, num_layers):\n",
        "        super(LSTM, self).__init__()\n",
        "        \n",
        "        self.num_classes = num_classes\n",
        "        self.num_layers = num_layers\n",
        "        self.input_size = input_size\n",
        "        self.hidden_size = hidden_size\n",
        "        self.seq_length = seq_length\n",
        "        \n",
        "        self.lstm = nn.LSTM(input_size=input_size, hidden_size=hidden_size,\n",
        "                            num_layers=num_layers, batch_first=True)\n",
        "        \n",
        "        self.fc = nn.Linear(hidden_size, num_classes)\n",
        "\n",
        "    def forward(self, x):\n",
        "        h_0 = Variable(torch.zeros(\n",
        "            self.num_layers, x.size(0), self.hidden_size))\n",
        "        \n",
        "        c_0 = Variable(torch.zeros(\n",
        "            self.num_layers, x.size(0), self.hidden_size))\n",
        "        \n",
        "        # Propagate input through LSTM\n",
        "        ula, (h_out, _) = self.lstm(x, (h_0, c_0))\n",
        "        \n",
        "        h_out = h_out.view(-1, self.hidden_size)\n",
        "        \n",
        "        out = self.fc(h_out)\n",
        "        \n",
        "        return out"
      ],
      "execution_count": null,
      "outputs": []
    },
    {
      "cell_type": "markdown",
      "metadata": {
        "id": "HAGginJcJ7ma"
      },
      "source": [
        "#Training"
      ]
    },
    {
      "cell_type": "code",
      "metadata": {
        "colab": {
          "base_uri": "https://localhost:8080/"
        },
        "id": "e0CvSxAgI3rx",
        "outputId": "77596c4d-ad7f-4c5c-c1a6-40a76ba89e6b"
      },
      "source": [
        "num_epochs = 1000\n",
        "learning_rate = 0.01\n",
        "\n",
        "input_size = 25\n",
        "hidden_size = 8\n",
        "num_layers = 1\n",
        "\n",
        "num_classes = 25\n",
        "\n",
        "lstm = LSTM(num_classes, input_size, hidden_size, num_layers)\n",
        "\n",
        "criterion = torch.nn.MSELoss()    # mean-squared error for regression\n",
        "optimizer = torch.optim.Adam(lstm.parameters(), lr=learning_rate)\n",
        "loss_ = []\n",
        "# Train the model\n",
        "for epoch in range(num_epochs):\n",
        "    outputs = lstm(trainX)\n",
        "    optimizer.zero_grad()\n",
        "    # obtain the loss function\n",
        "    loss = criterion(outputs, trainY)\n",
        "    loss.backward()\n",
        "    loss_.append(loss)\n",
        "    optimizer.step()\n",
        "    if epoch % 100 == 0:\n",
        "      print(\"Epoch: %d, loss: %1.5f\" % (epoch, loss.item()))"
      ],
      "execution_count": null,
      "outputs": [
        {
          "output_type": "stream",
          "text": [
            "Epoch: 0, loss: 0.21333\n",
            "Epoch: 100, loss: 0.01417\n",
            "Epoch: 200, loss: 0.00686\n",
            "Epoch: 300, loss: 0.00471\n",
            "Epoch: 400, loss: 0.00418\n",
            "Epoch: 500, loss: 0.00395\n",
            "Epoch: 600, loss: 0.00382\n",
            "Epoch: 700, loss: 0.00373\n",
            "Epoch: 800, loss: 0.00367\n",
            "Epoch: 900, loss: 0.00362\n"
          ],
          "name": "stdout"
        }
      ]
    },
    {
      "cell_type": "code",
      "metadata": {
        "colab": {
          "base_uri": "https://localhost:8080/",
          "height": 299
        },
        "id": "KfX1HKlOJ_GE",
        "outputId": "01aebfab-e5c3-4313-8f8b-3b11493a1361"
      },
      "source": [
        "plt.plot(loss_)\n",
        "plt.xlabel('Epoch')\n",
        "plt.ylabel('Loss')\n",
        "# Save the trained model\n",
        "PATH = './lstm_withWeather.pth'\n",
        "torch.save(lstm.state_dict(), PATH)"
      ],
      "execution_count": null,
      "outputs": [
        {
          "output_type": "display_data",
          "data": {
            "image/png": "[encoded data removed]",
            "text/plain": [
              "<Figure size 432x288 with 1 Axes>"
            ]
          },
          "metadata": {
            "tags": [],
            "needs_background": "light"
          }
        }
      ]
    },
    {
      "cell_type": "markdown",
      "metadata": {
        "id": "-VXUVGdqKFXC"
      },
      "source": [
        "#Testing"
      ]
    },
    {
      "cell_type": "code",
      "metadata": {
        "id": "TuEWb42_KFQ-"
      },
      "source": [
        "input_size = 18\n",
        "hidden_size = 8\n",
        "num_layers = 1\n",
        "\n",
        "num_classes = 18\n",
        "\n",
        "lstm = LSTM(num_classes, input_size, hidden_size, num_layers)\n",
        "PATH_lstm = './lstm_EnergyPre.pth'\n",
        "lstm.load_state_dict(torch.load(PATH_lstm))"
      ],
      "execution_count": null,
      "outputs": []
    },
    {
      "cell_type": "code",
      "metadata": {
        "colab": {
          "base_uri": "https://localhost:8080/"
        },
        "id": "TsFj8gbjKIP8",
        "outputId": "4ab0b21e-73e9-418d-f3a7-8ff7f1990bd6"
      },
      "source": [
        "lstm.eval()\n",
        "test_predict = lstm(testX)\n",
        "data_predict = test_predict.data.numpy()\n",
        "dataY_plot = testY.data.numpy()\n",
        "\n",
        "data_predict = sc.inverse_transform(data_predict)\n",
        "dataY_plot = sc.inverse_transform(testY)\n",
        "\n",
        "from sklearn.metrics import mean_squared_error\n",
        "MAE = np.mean(np.abs([data_predict[j]-dataY_plot[j] for j in range(len(data_predict))]))\n",
        "RMSE = np.sqrt(mean_squared_error(data_predict,dataY_plot))\n",
        "MSE = mean_squared_error(data_predict,dataY_plot) \n",
        "print('MAE is', MAE, 'MSE is', MSE, 'RMSE is', RMSE)"
      ],
      "execution_count": null,
      "outputs": [
        {
          "output_type": "stream",
          "text": [
            "MAE is 0.7329598957431883 MSE is 9.386465332725113 RMSE is 3.06373388738727\n"
          ],
          "name": "stdout"
        }
      ]
    },
    {
      "cell_type": "code",
      "metadata": {
        "colab": {
          "base_uri": "https://localhost:8080/",
          "height": 315
        },
        "id": "kELAV05IKK4L",
        "outputId": "4fe120ec-e94a-4c18-a08f-df291905a439"
      },
      "source": [
        "feature = 4\n",
        "f = plt.figure(figsize=(10,4))\n",
        "plt.plot(dataY_plot[0:2000,feature])\n",
        "plt.plot(data_predict[0:2000,feature])\n",
        "plt.title(df.columns[feature])\n",
        "plt.xlabel('Time')\n",
        "plt.ylabel('Energy[kW]')\n",
        "plt.legend(['Real','Predicted'],loc = 'lower right')\n",
        "plt.show()"
      ],
      "execution_count": null,
      "outputs": [
        {
          "output_type": "display_data",
          "data": {
            "image/png": "[encoded data removed]",
            "text/plain": [
              "<Figure size 720x288 with 1 Axes>"
            ]
          },
          "metadata": {
            "tags": [],
            "needs_background": "light"
          }
        }
      ]
    },
    {
      "cell_type": "code",
      "metadata": {
        "colab": {
          "base_uri": "https://localhost:8080/",
          "height": 315
        },
        "id": "iq-jePL6euTV",
        "outputId": "7b0fafcd-64bf-466d-f5b2-a25f058e9cdf"
      },
      "source": [
        "feature = 6\n",
        "f = plt.figure(figsize=(10,4))\n",
        "plt.plot(dataY_plot[0:2000,feature])\n",
        "plt.plot(data_predict[0:2000,feature])\n",
        "plt.title(df.columns[feature])\n",
        "plt.xlabel('Time')\n",
        "plt.ylabel('Energy[kW]')\n",
        "plt.legend(['Real','Predicted'],loc = 'lower right')\n",
        "plt.show()"
      ],
      "execution_count": null,
      "outputs": [
        {
          "output_type": "display_data",
          "data": {
            "image/png": "[encoded data removed]",
            "text/plain": [
              "<Figure size 720x288 with 1 Axes>"
            ]
          },
          "metadata": {
            "tags": [],
            "needs_background": "light"
          }
        }
      ]
    }
  ]
}