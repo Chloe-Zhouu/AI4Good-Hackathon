{
  "nbformat": 4,
  "nbformat_minor": 0,
  "metadata": {
    "colab": {
      "name": "AI4Good Project Energy Forecasting.ipynb",
      "provenance": [],
      "collapsed_sections": []
    },
    "kernelspec": {
      "name": "python3",
      "display_name": "Python 3"
    },
    "language_info": {
      "name": "python"
    }
  },
  "cells": [
    {
      "cell_type": "markdown",
      "metadata": {
        "id": "4j-6ezGyA9vH"
      },
      "source": [
        "#Import Libraries"
      ]
    },
    {
      "cell_type": "code",
      "metadata": {
        "id": "frxR1VaDtUWb"
      },
      "source": [
        "import numpy as np\n",
        "import matplotlib.pyplot as plt\n",
        "import pandas as pd\n",
        "import torch\n",
        "import torch.nn as nn\n",
        "from torch.autograd import Variable\n",
        "from sklearn.preprocessing import MinMaxScaler\n",
        "from tqdm import tqdm_notebook as tqdm\n",
        "from torch.utils.data import Dataset,DataLoader"
      ],
      "execution_count": 1,
      "outputs": []
    },
    {
      "cell_type": "markdown",
      "metadata": {
        "id": "IZCCZ86y6EBr"
      },
      "source": [
        "#Data Exploration"
      ]
    },
    {
      "cell_type": "code",
      "metadata": {
        "colab": {
          "base_uri": "https://localhost:8080/"
        },
        "id": "UDKlOiF8tk5N",
        "outputId": "9109ee05-f077-4201-96c0-5313c1685583"
      },
      "source": [
        "df = pd.read_csv('Sensors.csv')\n",
        "df.drop(df.tail(1).index,inplace=True)\n",
        "df['time'] = pd.to_datetime(df['time'],unit='s')\n",
        "df = df.set_index('time')"
      ],
      "execution_count": 3,
      "outputs": [
        {
          "output_type": "stream",
          "text": [
            "/usr/local/lib/python3.7/dist-packages/IPython/core/interactiveshell.py:2718: DtypeWarning: Columns (0,27) have mixed types.Specify dtype option on import or set low_memory=False.\n",
            "  interactivity=interactivity, compiler=compiler, result=result)\n"
          ],
          "name": "stderr"
        }
      ]
    },
    {
      "cell_type": "code",
      "metadata": {
        "colab": {
          "base_uri": "https://localhost:8080/",
          "height": 471
        },
        "id": "l9JaV1butk9Q",
        "outputId": "1cfd72c7-e46c-42c9-fc2c-c3565c8fe2b0"
      },
      "source": [
        "df.head()"
      ],
      "execution_count": 4,
      "outputs": [
        {
          "output_type": "execute_result",
          "data": {
            "text/html": [
              "<div>\n",
              "<style scoped>\n",
              "    .dataframe tbody tr th:only-of-type {\n",
              "        vertical-align: middle;\n",
              "    }\n",
              "\n",
              "    .dataframe tbody tr th {\n",
              "        vertical-align: top;\n",
              "    }\n",
              "\n",
              "    .dataframe thead th {\n",
              "        text-align: right;\n",
              "    }\n",
              "</style>\n",
              "<table border=\"1\" class=\"dataframe\">\n",
              "  <thead>\n",
              "    <tr style=\"text-align: right;\">\n",
              "      <th></th>\n",
              "      <th>use [kW]</th>\n",
              "      <th>gen [kW]</th>\n",
              "      <th>House overall [kW]</th>\n",
              "      <th>Dishwasher [kW]</th>\n",
              "      <th>Furnace 1 [kW]</th>\n",
              "      <th>Furnace 2 [kW]</th>\n",
              "      <th>Home office [kW]</th>\n",
              "      <th>Fridge [kW]</th>\n",
              "      <th>Wine cellar [kW]</th>\n",
              "      <th>Garage door [kW]</th>\n",
              "      <th>Kitchen 12 [kW]</th>\n",
              "      <th>Kitchen 14 [kW]</th>\n",
              "      <th>Kitchen 38 [kW]</th>\n",
              "      <th>Barn [kW]</th>\n",
              "      <th>Well [kW]</th>\n",
              "      <th>Microwave [kW]</th>\n",
              "      <th>Living room [kW]</th>\n",
              "      <th>Solar [kW]</th>\n",
              "      <th>temperature</th>\n",
              "      <th>icon</th>\n",
              "      <th>humidity</th>\n",
              "      <th>visibility</th>\n",
              "      <th>summary</th>\n",
              "      <th>apparentTemperature</th>\n",
              "      <th>pressure</th>\n",
              "      <th>windSpeed</th>\n",
              "      <th>cloudCover</th>\n",
              "      <th>windBearing</th>\n",
              "      <th>precipIntensity</th>\n",
              "      <th>dewPoint</th>\n",
              "      <th>precipProbability</th>\n",
              "    </tr>\n",
              "    <tr>\n",
              "      <th>time</th>\n",
              "      <th></th>\n",
              "      <th></th>\n",
              "      <th></th>\n",
              "      <th></th>\n",
              "      <th></th>\n",
              "      <th></th>\n",
              "      <th></th>\n",
              "      <th></th>\n",
              "      <th></th>\n",
              "      <th></th>\n",
              "      <th></th>\n",
              "      <th></th>\n",
              "      <th></th>\n",
              "      <th></th>\n",
              "      <th></th>\n",
              "      <th></th>\n",
              "      <th></th>\n",
              "      <th></th>\n",
              "      <th></th>\n",
              "      <th></th>\n",
              "      <th></th>\n",
              "      <th></th>\n",
              "      <th></th>\n",
              "      <th></th>\n",
              "      <th></th>\n",
              "      <th></th>\n",
              "      <th></th>\n",
              "      <th></th>\n",
              "      <th></th>\n",
              "      <th></th>\n",
              "      <th></th>\n",
              "    </tr>\n",
              "  </thead>\n",
              "  <tbody>\n",
              "    <tr>\n",
              "      <th>2016-01-01 05:00:00</th>\n",
              "      <td>0.932833</td>\n",
              "      <td>0.003483</td>\n",
              "      <td>0.932833</td>\n",
              "      <td>0.000033</td>\n",
              "      <td>0.020700</td>\n",
              "      <td>0.061917</td>\n",
              "      <td>0.442633</td>\n",
              "      <td>0.124150</td>\n",
              "      <td>0.006983</td>\n",
              "      <td>0.013083</td>\n",
              "      <td>0.000417</td>\n",
              "      <td>0.000150</td>\n",
              "      <td>0.000000</td>\n",
              "      <td>0.031350</td>\n",
              "      <td>0.001017</td>\n",
              "      <td>0.004067</td>\n",
              "      <td>0.001517</td>\n",
              "      <td>0.003483</td>\n",
              "      <td>36.14</td>\n",
              "      <td>clear-night</td>\n",
              "      <td>0.62</td>\n",
              "      <td>10.0</td>\n",
              "      <td>Clear</td>\n",
              "      <td>29.26</td>\n",
              "      <td>1016.91</td>\n",
              "      <td>9.18</td>\n",
              "      <td>cloudCover</td>\n",
              "      <td>282.0</td>\n",
              "      <td>0.0</td>\n",
              "      <td>24.4</td>\n",
              "      <td>0.0</td>\n",
              "    </tr>\n",
              "    <tr>\n",
              "      <th>2016-01-01 05:00:01</th>\n",
              "      <td>0.934333</td>\n",
              "      <td>0.003467</td>\n",
              "      <td>0.934333</td>\n",
              "      <td>0.000000</td>\n",
              "      <td>0.020717</td>\n",
              "      <td>0.063817</td>\n",
              "      <td>0.444067</td>\n",
              "      <td>0.124000</td>\n",
              "      <td>0.006983</td>\n",
              "      <td>0.013117</td>\n",
              "      <td>0.000417</td>\n",
              "      <td>0.000150</td>\n",
              "      <td>0.000000</td>\n",
              "      <td>0.031500</td>\n",
              "      <td>0.001017</td>\n",
              "      <td>0.004067</td>\n",
              "      <td>0.001650</td>\n",
              "      <td>0.003467</td>\n",
              "      <td>36.14</td>\n",
              "      <td>clear-night</td>\n",
              "      <td>0.62</td>\n",
              "      <td>10.0</td>\n",
              "      <td>Clear</td>\n",
              "      <td>29.26</td>\n",
              "      <td>1016.91</td>\n",
              "      <td>9.18</td>\n",
              "      <td>cloudCover</td>\n",
              "      <td>282.0</td>\n",
              "      <td>0.0</td>\n",
              "      <td>24.4</td>\n",
              "      <td>0.0</td>\n",
              "    </tr>\n",
              "    <tr>\n",
              "      <th>2016-01-01 05:00:02</th>\n",
              "      <td>0.931817</td>\n",
              "      <td>0.003467</td>\n",
              "      <td>0.931817</td>\n",
              "      <td>0.000017</td>\n",
              "      <td>0.020700</td>\n",
              "      <td>0.062317</td>\n",
              "      <td>0.446067</td>\n",
              "      <td>0.123533</td>\n",
              "      <td>0.006983</td>\n",
              "      <td>0.013083</td>\n",
              "      <td>0.000433</td>\n",
              "      <td>0.000167</td>\n",
              "      <td>0.000017</td>\n",
              "      <td>0.031517</td>\n",
              "      <td>0.001000</td>\n",
              "      <td>0.004067</td>\n",
              "      <td>0.001650</td>\n",
              "      <td>0.003467</td>\n",
              "      <td>36.14</td>\n",
              "      <td>clear-night</td>\n",
              "      <td>0.62</td>\n",
              "      <td>10.0</td>\n",
              "      <td>Clear</td>\n",
              "      <td>29.26</td>\n",
              "      <td>1016.91</td>\n",
              "      <td>9.18</td>\n",
              "      <td>cloudCover</td>\n",
              "      <td>282.0</td>\n",
              "      <td>0.0</td>\n",
              "      <td>24.4</td>\n",
              "      <td>0.0</td>\n",
              "    </tr>\n",
              "    <tr>\n",
              "      <th>2016-01-01 05:00:03</th>\n",
              "      <td>1.022050</td>\n",
              "      <td>0.003483</td>\n",
              "      <td>1.022050</td>\n",
              "      <td>0.000017</td>\n",
              "      <td>0.106900</td>\n",
              "      <td>0.068517</td>\n",
              "      <td>0.446583</td>\n",
              "      <td>0.123133</td>\n",
              "      <td>0.006983</td>\n",
              "      <td>0.013000</td>\n",
              "      <td>0.000433</td>\n",
              "      <td>0.000217</td>\n",
              "      <td>0.000000</td>\n",
              "      <td>0.031500</td>\n",
              "      <td>0.001017</td>\n",
              "      <td>0.004067</td>\n",
              "      <td>0.001617</td>\n",
              "      <td>0.003483</td>\n",
              "      <td>36.14</td>\n",
              "      <td>clear-night</td>\n",
              "      <td>0.62</td>\n",
              "      <td>10.0</td>\n",
              "      <td>Clear</td>\n",
              "      <td>29.26</td>\n",
              "      <td>1016.91</td>\n",
              "      <td>9.18</td>\n",
              "      <td>cloudCover</td>\n",
              "      <td>282.0</td>\n",
              "      <td>0.0</td>\n",
              "      <td>24.4</td>\n",
              "      <td>0.0</td>\n",
              "    </tr>\n",
              "    <tr>\n",
              "      <th>2016-01-01 05:00:04</th>\n",
              "      <td>1.139400</td>\n",
              "      <td>0.003467</td>\n",
              "      <td>1.139400</td>\n",
              "      <td>0.000133</td>\n",
              "      <td>0.236933</td>\n",
              "      <td>0.063983</td>\n",
              "      <td>0.446533</td>\n",
              "      <td>0.122850</td>\n",
              "      <td>0.006850</td>\n",
              "      <td>0.012783</td>\n",
              "      <td>0.000450</td>\n",
              "      <td>0.000333</td>\n",
              "      <td>0.000000</td>\n",
              "      <td>0.031500</td>\n",
              "      <td>0.001017</td>\n",
              "      <td>0.004067</td>\n",
              "      <td>0.001583</td>\n",
              "      <td>0.003467</td>\n",
              "      <td>36.14</td>\n",
              "      <td>clear-night</td>\n",
              "      <td>0.62</td>\n",
              "      <td>10.0</td>\n",
              "      <td>Clear</td>\n",
              "      <td>29.26</td>\n",
              "      <td>1016.91</td>\n",
              "      <td>9.18</td>\n",
              "      <td>cloudCover</td>\n",
              "      <td>282.0</td>\n",
              "      <td>0.0</td>\n",
              "      <td>24.4</td>\n",
              "      <td>0.0</td>\n",
              "    </tr>\n",
              "  </tbody>\n",
              "</table>\n",
              "</div>"
            ],
            "text/plain": [
              "                     use [kW]  gen [kW]  ...  dewPoint  precipProbability\n",
              "time                                     ...                             \n",
              "2016-01-01 05:00:00  0.932833  0.003483  ...      24.4                0.0\n",
              "2016-01-01 05:00:01  0.934333  0.003467  ...      24.4                0.0\n",
              "2016-01-01 05:00:02  0.931817  0.003467  ...      24.4                0.0\n",
              "2016-01-01 05:00:03  1.022050  0.003483  ...      24.4                0.0\n",
              "2016-01-01 05:00:04  1.139400  0.003467  ...      24.4                0.0\n",
              "\n",
              "[5 rows x 31 columns]"
            ]
          },
          "metadata": {
            "tags": []
          },
          "execution_count": 4
        }
      ]
    },
    {
      "cell_type": "code",
      "metadata": {
        "colab": {
          "base_uri": "https://localhost:8080/",
          "height": 358
        },
        "id": "4yOBkfkNE_-t",
        "outputId": "212fa91e-2721-4127-d403-982360b3d290"
      },
      "source": [
        "df.describe()"
      ],
      "execution_count": 13,
      "outputs": [
        {
          "output_type": "execute_result",
          "data": {
            "text/html": [
              "<div>\n",
              "<style scoped>\n",
              "    .dataframe tbody tr th:only-of-type {\n",
              "        vertical-align: middle;\n",
              "    }\n",
              "\n",
              "    .dataframe tbody tr th {\n",
              "        vertical-align: top;\n",
              "    }\n",
              "\n",
              "    .dataframe thead th {\n",
              "        text-align: right;\n",
              "    }\n",
              "</style>\n",
              "<table border=\"1\" class=\"dataframe\">\n",
              "  <thead>\n",
              "    <tr style=\"text-align: right;\">\n",
              "      <th></th>\n",
              "      <th>use [kW]</th>\n",
              "      <th>gen [kW]</th>\n",
              "      <th>House overall [kW]</th>\n",
              "      <th>Dishwasher [kW]</th>\n",
              "      <th>Furnace 1 [kW]</th>\n",
              "      <th>Furnace 2 [kW]</th>\n",
              "      <th>Home office [kW]</th>\n",
              "      <th>Fridge [kW]</th>\n",
              "      <th>Wine cellar [kW]</th>\n",
              "      <th>Garage door [kW]</th>\n",
              "      <th>Kitchen 12 [kW]</th>\n",
              "      <th>Kitchen 14 [kW]</th>\n",
              "      <th>Kitchen 38 [kW]</th>\n",
              "      <th>Barn [kW]</th>\n",
              "      <th>Well [kW]</th>\n",
              "      <th>Microwave [kW]</th>\n",
              "      <th>Living room [kW]</th>\n",
              "      <th>Solar [kW]</th>\n",
              "      <th>temperature</th>\n",
              "      <th>humidity</th>\n",
              "      <th>visibility</th>\n",
              "      <th>apparentTemperature</th>\n",
              "      <th>pressure</th>\n",
              "      <th>windSpeed</th>\n",
              "      <th>windBearing</th>\n",
              "      <th>precipIntensity</th>\n",
              "      <th>dewPoint</th>\n",
              "      <th>precipProbability</th>\n",
              "    </tr>\n",
              "  </thead>\n",
              "  <tbody>\n",
              "    <tr>\n",
              "      <th>count</th>\n",
              "      <td>503910.000000</td>\n",
              "      <td>503910.000000</td>\n",
              "      <td>503910.000000</td>\n",
              "      <td>503910.000000</td>\n",
              "      <td>503910.000000</td>\n",
              "      <td>503910.000000</td>\n",
              "      <td>503910.000000</td>\n",
              "      <td>503910.000000</td>\n",
              "      <td>503910.000000</td>\n",
              "      <td>503910.000000</td>\n",
              "      <td>503910.000000</td>\n",
              "      <td>503910.000000</td>\n",
              "      <td>503910.000000</td>\n",
              "      <td>503910.000000</td>\n",
              "      <td>503910.000000</td>\n",
              "      <td>503910.000000</td>\n",
              "      <td>503910.000000</td>\n",
              "      <td>503910.000000</td>\n",
              "      <td>503910.000000</td>\n",
              "      <td>503910.000000</td>\n",
              "      <td>503910.000000</td>\n",
              "      <td>503910.000000</td>\n",
              "      <td>503910.000000</td>\n",
              "      <td>503910.000000</td>\n",
              "      <td>503910.000000</td>\n",
              "      <td>503910.000000</td>\n",
              "      <td>503910.000000</td>\n",
              "      <td>503910.000000</td>\n",
              "    </tr>\n",
              "    <tr>\n",
              "      <th>mean</th>\n",
              "      <td>0.858962</td>\n",
              "      <td>0.076229</td>\n",
              "      <td>0.858962</td>\n",
              "      <td>0.031368</td>\n",
              "      <td>0.099210</td>\n",
              "      <td>0.136779</td>\n",
              "      <td>0.081287</td>\n",
              "      <td>0.063556</td>\n",
              "      <td>0.042137</td>\n",
              "      <td>0.014139</td>\n",
              "      <td>0.002755</td>\n",
              "      <td>0.007023</td>\n",
              "      <td>0.000009</td>\n",
              "      <td>0.058530</td>\n",
              "      <td>0.015642</td>\n",
              "      <td>0.010983</td>\n",
              "      <td>0.035313</td>\n",
              "      <td>0.076229</td>\n",
              "      <td>50.741935</td>\n",
              "      <td>0.664085</td>\n",
              "      <td>9.253444</td>\n",
              "      <td>48.263382</td>\n",
              "      <td>1016.301625</td>\n",
              "      <td>6.649936</td>\n",
              "      <td>202.356843</td>\n",
              "      <td>0.002598</td>\n",
              "      <td>38.694013</td>\n",
              "      <td>0.056453</td>\n",
              "    </tr>\n",
              "    <tr>\n",
              "      <th>std</th>\n",
              "      <td>1.058207</td>\n",
              "      <td>0.128428</td>\n",
              "      <td>1.058207</td>\n",
              "      <td>0.190951</td>\n",
              "      <td>0.169059</td>\n",
              "      <td>0.178631</td>\n",
              "      <td>0.104466</td>\n",
              "      <td>0.076199</td>\n",
              "      <td>0.057967</td>\n",
              "      <td>0.014292</td>\n",
              "      <td>0.021860</td>\n",
              "      <td>0.076740</td>\n",
              "      <td>0.000010</td>\n",
              "      <td>0.202706</td>\n",
              "      <td>0.137841</td>\n",
              "      <td>0.098859</td>\n",
              "      <td>0.096056</td>\n",
              "      <td>0.128428</td>\n",
              "      <td>19.113807</td>\n",
              "      <td>0.194389</td>\n",
              "      <td>1.611186</td>\n",
              "      <td>22.027916</td>\n",
              "      <td>7.895185</td>\n",
              "      <td>3.982716</td>\n",
              "      <td>106.520474</td>\n",
              "      <td>0.011257</td>\n",
              "      <td>19.087939</td>\n",
              "      <td>0.165836</td>\n",
              "    </tr>\n",
              "    <tr>\n",
              "      <th>min</th>\n",
              "      <td>0.000000</td>\n",
              "      <td>0.000000</td>\n",
              "      <td>0.000000</td>\n",
              "      <td>0.000000</td>\n",
              "      <td>0.000017</td>\n",
              "      <td>0.000067</td>\n",
              "      <td>0.000083</td>\n",
              "      <td>0.000067</td>\n",
              "      <td>0.000017</td>\n",
              "      <td>0.000017</td>\n",
              "      <td>0.000000</td>\n",
              "      <td>0.000000</td>\n",
              "      <td>0.000000</td>\n",
              "      <td>0.000000</td>\n",
              "      <td>0.000000</td>\n",
              "      <td>0.000000</td>\n",
              "      <td>0.000000</td>\n",
              "      <td>0.000000</td>\n",
              "      <td>-12.640000</td>\n",
              "      <td>0.130000</td>\n",
              "      <td>0.270000</td>\n",
              "      <td>-32.080000</td>\n",
              "      <td>986.400000</td>\n",
              "      <td>0.000000</td>\n",
              "      <td>0.000000</td>\n",
              "      <td>0.000000</td>\n",
              "      <td>-27.240000</td>\n",
              "      <td>0.000000</td>\n",
              "    </tr>\n",
              "    <tr>\n",
              "      <th>25%</th>\n",
              "      <td>0.367667</td>\n",
              "      <td>0.003367</td>\n",
              "      <td>0.367667</td>\n",
              "      <td>0.000000</td>\n",
              "      <td>0.020233</td>\n",
              "      <td>0.064400</td>\n",
              "      <td>0.040383</td>\n",
              "      <td>0.005083</td>\n",
              "      <td>0.007133</td>\n",
              "      <td>0.012733</td>\n",
              "      <td>0.000500</td>\n",
              "      <td>0.000017</td>\n",
              "      <td>0.000000</td>\n",
              "      <td>0.029833</td>\n",
              "      <td>0.000983</td>\n",
              "      <td>0.003617</td>\n",
              "      <td>0.001483</td>\n",
              "      <td>0.003367</td>\n",
              "      <td>35.770000</td>\n",
              "      <td>0.510000</td>\n",
              "      <td>9.420000</td>\n",
              "      <td>31.090000</td>\n",
              "      <td>1011.290000</td>\n",
              "      <td>3.660000</td>\n",
              "      <td>148.000000</td>\n",
              "      <td>0.000000</td>\n",
              "      <td>24.600000</td>\n",
              "      <td>0.000000</td>\n",
              "    </tr>\n",
              "    <tr>\n",
              "      <th>50%</th>\n",
              "      <td>0.562333</td>\n",
              "      <td>0.004283</td>\n",
              "      <td>0.562333</td>\n",
              "      <td>0.000017</td>\n",
              "      <td>0.020617</td>\n",
              "      <td>0.066633</td>\n",
              "      <td>0.042217</td>\n",
              "      <td>0.005433</td>\n",
              "      <td>0.008083</td>\n",
              "      <td>0.012933</td>\n",
              "      <td>0.000667</td>\n",
              "      <td>0.000050</td>\n",
              "      <td>0.000017</td>\n",
              "      <td>0.031317</td>\n",
              "      <td>0.001000</td>\n",
              "      <td>0.004000</td>\n",
              "      <td>0.001617</td>\n",
              "      <td>0.004283</td>\n",
              "      <td>50.320000</td>\n",
              "      <td>0.680000</td>\n",
              "      <td>10.000000</td>\n",
              "      <td>50.320000</td>\n",
              "      <td>1016.530000</td>\n",
              "      <td>5.930000</td>\n",
              "      <td>208.000000</td>\n",
              "      <td>0.000000</td>\n",
              "      <td>39.030000</td>\n",
              "      <td>0.000000</td>\n",
              "    </tr>\n",
              "    <tr>\n",
              "      <th>75%</th>\n",
              "      <td>0.970250</td>\n",
              "      <td>0.083917</td>\n",
              "      <td>0.970250</td>\n",
              "      <td>0.000233</td>\n",
              "      <td>0.068733</td>\n",
              "      <td>0.080633</td>\n",
              "      <td>0.068283</td>\n",
              "      <td>0.125417</td>\n",
              "      <td>0.053192</td>\n",
              "      <td>0.013100</td>\n",
              "      <td>0.000750</td>\n",
              "      <td>0.000167</td>\n",
              "      <td>0.000017</td>\n",
              "      <td>0.032883</td>\n",
              "      <td>0.001017</td>\n",
              "      <td>0.004067</td>\n",
              "      <td>0.001750</td>\n",
              "      <td>0.083917</td>\n",
              "      <td>66.260000</td>\n",
              "      <td>0.840000</td>\n",
              "      <td>10.000000</td>\n",
              "      <td>66.260000</td>\n",
              "      <td>1021.480000</td>\n",
              "      <td>8.940000</td>\n",
              "      <td>295.000000</td>\n",
              "      <td>0.000000</td>\n",
              "      <td>54.790000</td>\n",
              "      <td>0.000000</td>\n",
              "    </tr>\n",
              "    <tr>\n",
              "      <th>max</th>\n",
              "      <td>14.714567</td>\n",
              "      <td>0.613883</td>\n",
              "      <td>14.714567</td>\n",
              "      <td>1.401767</td>\n",
              "      <td>1.934083</td>\n",
              "      <td>0.794933</td>\n",
              "      <td>0.971750</td>\n",
              "      <td>0.851267</td>\n",
              "      <td>1.273933</td>\n",
              "      <td>1.088983</td>\n",
              "      <td>1.166583</td>\n",
              "      <td>2.262583</td>\n",
              "      <td>0.000183</td>\n",
              "      <td>7.027900</td>\n",
              "      <td>1.633017</td>\n",
              "      <td>1.929800</td>\n",
              "      <td>0.465217</td>\n",
              "      <td>0.613883</td>\n",
              "      <td>93.720000</td>\n",
              "      <td>0.980000</td>\n",
              "      <td>10.000000</td>\n",
              "      <td>101.120000</td>\n",
              "      <td>1042.460000</td>\n",
              "      <td>22.910000</td>\n",
              "      <td>359.000000</td>\n",
              "      <td>0.191000</td>\n",
              "      <td>75.490000</td>\n",
              "      <td>0.840000</td>\n",
              "    </tr>\n",
              "  </tbody>\n",
              "</table>\n",
              "</div>"
            ],
            "text/plain": [
              "            use [kW]       gen [kW]  ...       dewPoint  precipProbability\n",
              "count  503910.000000  503910.000000  ...  503910.000000      503910.000000\n",
              "mean        0.858962       0.076229  ...      38.694013           0.056453\n",
              "std         1.058207       0.128428  ...      19.087939           0.165836\n",
              "min         0.000000       0.000000  ...     -27.240000           0.000000\n",
              "25%         0.367667       0.003367  ...      24.600000           0.000000\n",
              "50%         0.562333       0.004283  ...      39.030000           0.000000\n",
              "75%         0.970250       0.083917  ...      54.790000           0.000000\n",
              "max        14.714567       0.613883  ...      75.490000           0.840000\n",
              "\n",
              "[8 rows x 28 columns]"
            ]
          },
          "metadata": {
            "tags": []
          },
          "execution_count": 13
        }
      ]
    },
    {
      "cell_type": "code",
      "metadata": {
        "colab": {
          "base_uri": "https://localhost:8080/",
          "height": 320
        },
        "id": "qVPe6eZUq0IO",
        "outputId": "ca71204c-5a04-4ea4-b14a-059f4408c735"
      },
      "source": [
        "# Correlations matrix of original data\n",
        "plt.figure(figsize=(5,5))\n",
        "plt.matshow(df.corr(method='pearson'),vmax=1,vmin=-1,cmap='PRGn', fignum=1)\n",
        "plt.title('Correlation matrix', size=10)\n",
        "plt.colorbar()\n",
        "plt.show()"
      ],
      "execution_count": 15,
      "outputs": [
        {
          "output_type": "display_data",
          "data": {
            "image/png": "[encoded data removed]",
            "text/plain": [
              "<Figure size 360x360 with 2 Axes>"
            ]
          },
          "metadata": {
            "tags": [],
            "needs_background": "light"
          }
        }
      ]
    },
    {
      "cell_type": "code",
      "metadata": {
        "colab": {
          "base_uri": "https://localhost:8080/",
          "height": 265
        },
        "id": "weRhTEOkC6rK",
        "outputId": "6c7d3eeb-587c-4a83-ef05-c6a05b50cdee"
      },
      "source": [
        "#Extracting only Energy data [kw] \n",
        "#Approach 1: use each appliance's historical values to predict the next time step value (this notebook's focus)\n",
        "#Approach 2: use weather/humidity and other features as input, and each appliance's power consumption as targets\n",
        "training_set = df.iloc[:,:18].values\n",
        "plt.plot(training_set)\n",
        "plt.show()"
      ],
      "execution_count": 10,
      "outputs": [
        {
          "output_type": "display_data",
          "data": {
            "image/png": "[encoded data removed]",
            "text/plain": [
              "<Figure size 432x288 with 1 Axes>"
            ]
          },
          "metadata": {
            "tags": [],
            "needs_background": "light"
          }
        }
      ]
    },
    {
      "cell_type": "markdown",
      "metadata": {
        "id": "IHGorjptYjmw"
      },
      "source": [
        "#Data Preprocessing\n"
      ]
    },
    {
      "cell_type": "code",
      "metadata": {
        "id": "wombscjqYnus"
      },
      "source": [
        "def sliding_windows(data, seq_length):\n",
        "    x = []\n",
        "    y = []\n",
        "\n",
        "    for i in range(len(data)-seq_length-1):\n",
        "        _x = data[i:(i+seq_length)]\n",
        "        _y = data[i+seq_length]\n",
        "        x.append(_x)\n",
        "        y.append(_y)\n",
        "\n",
        "    return np.array(x),np.array(y)\n",
        "\n",
        "sc = MinMaxScaler()\n",
        "training_data = sc.fit_transform(training_set)\n",
        "\n",
        "seq_length = 7\n",
        "x, y = sliding_windows(training_data, seq_length)\n",
        "\n",
        "train_size = int(len(y) * 0.67)\n",
        "test_size = len(y) - train_size\n",
        "\n",
        "dataX = Variable(torch.Tensor(np.array(x)))\n",
        "dataY = Variable(torch.Tensor(np.array(y)))\n",
        "\n",
        "trainX = Variable(torch.Tensor(np.array(x[0:train_size])))\n",
        "trainY = Variable(torch.Tensor(np.array(y[0:train_size])))\n",
        "\n",
        "testX = Variable(torch.Tensor(np.array(x[train_size:len(x)])))\n",
        "testY = Variable(torch.Tensor(np.array(y[train_size:len(y)])))"
      ],
      "execution_count": 16,
      "outputs": []
    },
    {
      "cell_type": "code",
      "metadata": {
        "colab": {
          "base_uri": "https://localhost:8080/"
        },
        "id": "h0GA4mrnYuuf",
        "outputId": "3e838864-e924-43ec-b0bf-a757cc0c8039"
      },
      "source": [
        "trainX.shape"
      ],
      "execution_count": 17,
      "outputs": [
        {
          "output_type": "execute_result",
          "data": {
            "text/plain": [
              "torch.Size([337614, 7, 18])"
            ]
          },
          "metadata": {
            "tags": []
          },
          "execution_count": 17
        }
      ]
    },
    {
      "cell_type": "code",
      "metadata": {
        "colab": {
          "base_uri": "https://localhost:8080/"
        },
        "id": "fCymtvB_Y1b0",
        "outputId": "7184c1aa-e616-41ca-ee74-6db146e5606e"
      },
      "source": [
        "trainY.shape"
      ],
      "execution_count": 19,
      "outputs": [
        {
          "output_type": "execute_result",
          "data": {
            "text/plain": [
              "torch.Size([337614, 18])"
            ]
          },
          "metadata": {
            "tags": []
          },
          "execution_count": 19
        }
      ]
    },
    {
      "cell_type": "markdown",
      "metadata": {
        "id": "_gmQ1m2wZGYj"
      },
      "source": [
        "#Models\n"
      ]
    },
    {
      "cell_type": "code",
      "metadata": {
        "id": "k9eOp4CqZK3Z"
      },
      "source": [
        "class LSTM(nn.Module):\n",
        "\n",
        "    def __init__(self, num_classes, input_size, hidden_size, num_layers):\n",
        "        super(LSTM, self).__init__()\n",
        "        \n",
        "        self.num_classes = num_classes\n",
        "        self.num_layers = num_layers\n",
        "        self.input_size = input_size\n",
        "        self.hidden_size = hidden_size\n",
        "        self.seq_length = seq_length\n",
        "        \n",
        "        self.lstm = nn.LSTM(input_size=input_size, hidden_size=hidden_size,\n",
        "                            num_layers=num_layers, batch_first=True)\n",
        "        \n",
        "        self.fc = nn.Linear(hidden_size, num_classes)\n",
        "\n",
        "    def forward(self, x):\n",
        "        h_0 = Variable(torch.zeros(\n",
        "            self.num_layers, x.size(0), self.hidden_size))\n",
        "        \n",
        "        c_0 = Variable(torch.zeros(\n",
        "            self.num_layers, x.size(0), self.hidden_size))\n",
        "        \n",
        "        # Propagate input through LSTM\n",
        "        ula, (h_out, _) = self.lstm(x, (h_0, c_0))\n",
        "        \n",
        "        h_out = h_out.view(-1, self.hidden_size)\n",
        "        \n",
        "        out = self.fc(h_out)\n",
        "        \n",
        "        return out"
      ],
      "execution_count": 20,
      "outputs": []
    },
    {
      "cell_type": "markdown",
      "metadata": {
        "id": "aCpurUYjak4L"
      },
      "source": [
        "#Training"
      ]
    },
    {
      "cell_type": "code",
      "metadata": {
        "colab": {
          "base_uri": "https://localhost:8080/"
        },
        "id": "1DNgbLiDakZI",
        "outputId": "4c62f45b-a35d-4e7b-f733-82e771c4a7f3"
      },
      "source": [
        "num_epochs = 1000\n",
        "learning_rate = 0.01\n",
        "\n",
        "input_size = 18\n",
        "hidden_size = 6\n",
        "num_layers = 1\n",
        "\n",
        "num_classes = 18\n",
        "\n",
        "lstm = LSTM(num_classes, input_size, hidden_size, num_layers)\n",
        "\n",
        "criterion = torch.nn.MSELoss()    # mean-squared error for regression\n",
        "optimizer = torch.optim.Adam(lstm.parameters(), lr=learning_rate)\n",
        "loss_ = []\n",
        "# Train the model\n",
        "for epoch in range(num_epochs):\n",
        "    outputs = lstm(trainX)\n",
        "    optimizer.zero_grad()\n",
        "    # obtain the loss function\n",
        "    loss = criterion(outputs, trainY)\n",
        "    loss.backward()\n",
        "    loss_.append(loss)\n",
        "    optimizer.step()\n",
        "    if epoch % 100 == 0:\n",
        "      print(\"Epoch: %d, loss: %1.5f\" % (epoch, loss.item()))"
      ],
      "execution_count": 39,
      "outputs": [
        {
          "output_type": "stream",
          "text": [
            "Epoch: 0, loss: 0.06180\n",
            "Epoch: 100, loss: 0.00443\n",
            "Epoch: 200, loss: 0.00302\n",
            "Epoch: 300, loss: 0.00268\n",
            "Epoch: 400, loss: 0.00257\n",
            "Epoch: 500, loss: 0.00251\n",
            "Epoch: 600, loss: 0.00249\n",
            "Epoch: 700, loss: 0.00248\n",
            "Epoch: 800, loss: 0.00247\n",
            "Epoch: 900, loss: 0.00246\n"
          ],
          "name": "stdout"
        }
      ]
    },
    {
      "cell_type": "code",
      "metadata": {
        "colab": {
          "base_uri": "https://localhost:8080/",
          "height": 299
        },
        "id": "0b7kx9XrblEM",
        "outputId": "b00d7084-d0e1-4989-bad9-3e846030f1a2"
      },
      "source": [
        "plt.plot(loss_)\n",
        "plt.xlabel('Epoch')\n",
        "plt.ylabel('Loss')\n",
        "# Save the trained model\n",
        "PATH = './lstm_EnergyPre.pth'\n",
        "torch.save(lstm.state_dict(), PATH)"
      ],
      "execution_count": 40,
      "outputs": [
        {
          "output_type": "display_data",
          "data": {
            "image/png": "[encoded data removed]",
            "text/plain": [
              "<Figure size 432x288 with 1 Axes>"
            ]
          },
          "metadata": {
            "tags": [],
            "needs_background": "light"
          }
        }
      ]
    },
    {
      "cell_type": "markdown",
      "metadata": {
        "id": "EMu5Tsa4bxjT"
      },
      "source": [
        "#Testing "
      ]
    },
    {
      "cell_type": "code",
      "metadata": {
        "id": "A7E2a401bzc8"
      },
      "source": [
        "input_size = 18\n",
        "hidden_size = 6\n",
        "num_layers = 1\n",
        "\n",
        "num_classes = 18\n",
        "\n",
        "lstm = LSTM(num_classes, input_size, hidden_size, num_layers)\n",
        "PATH_lstm = './lstm_EnergyPre.pth'\n",
        "lstm.load_state_dict(torch.load(PATH_lstm))"
      ],
      "execution_count": null,
      "outputs": []
    },
    {
      "cell_type": "code",
      "metadata": {
        "colab": {
          "base_uri": "https://localhost:8080/"
        },
        "id": "Nlh9JVJcb0ny",
        "outputId": "1b9eb412-0a49-42c1-f667-b36eae73f453"
      },
      "source": [
        "lstm.eval()\n",
        "test_predict = lstm(testX)\n",
        "data_predict = test_predict.data.numpy()\n",
        "dataY_plot = testY.data.numpy()\n",
        "data_predict = sc.inverse_transform(data_predict)\n",
        "dataY_plot = sc.inverse_transform(testY)\n",
        "\n",
        "from sklearn.metrics import mean_squared_error\n",
        "MAE = np.mean(np.abs([data_predict[j]-dataY_plot[j] for j in range(len(data_predict))]))\n",
        "RMSE = np.sqrt(mean_squared_error(data_predict,dataY_plot))\n",
        "MSE = mean_squared_error(data_predict,dataY_plot) \n",
        "print('MAE is', MAE, 'MSE is', MSE, 'RMSE is', RMSE)"
      ],
      "execution_count": 41,
      "outputs": [
        {
          "output_type": "stream",
          "text": [
            "MAE is 0.059883353834132694 MSE is 0.04075187646147381 RMSE is 0.2018709401114331\n"
          ],
          "name": "stdout"
        }
      ]
    },
    {
      "cell_type": "code",
      "metadata": {
        "colab": {
          "base_uri": "https://localhost:8080/",
          "height": 315
        },
        "id": "vBmN_3-Ib7Ag",
        "outputId": "ee0942ee-97ab-4f5d-afbf-d15f243d2600"
      },
      "source": [
        "# plt.axvline(ab[0], c='r', linestyle='--')\n",
        "feature = 3\n",
        "f = plt.figure(figsize=(10,4))\n",
        "plt.plot(dataY_plot[0:2000,feature])\n",
        "plt.plot(data_predict[0:2000,feature])\n",
        "plt.title(df.columns[feature])\n",
        "plt.xlabel('Time')\n",
        "plt.ylabel('Energy[kW]')\n",
        "plt.legend(['Real','Predicted'],loc = 'lower right')\n",
        "plt.show()\n",
        "# f.savefig(\"case1.pdf\")"
      ],
      "execution_count": 81,
      "outputs": [
        {
          "output_type": "display_data",
          "data": {
            "image/png": "[encoded data removed]",
            "text/plain": [
              "<Figure size 720x288 with 1 Axes>"
            ]
          },
          "metadata": {
            "tags": [],
            "needs_background": "light"
          }
        }
      ]
    },
    {
      "cell_type": "code",
      "metadata": {
        "colab": {
          "base_uri": "https://localhost:8080/",
          "height": 315
        },
        "id": "K4accqjMzgFW",
        "outputId": "81ecb706-4b82-486a-855b-edc3ced4aaed"
      },
      "source": [
        "# plt.axvline(ab[0], c='r', linestyle='--')\n",
        "feature = 2\n",
        "f = plt.figure(figsize=(10,4))\n",
        "plt.plot(dataY_plot[0:2000,feature])\n",
        "plt.plot(data_predict[0:2000,feature])\n",
        "plt.title(df.columns[feature])\n",
        "plt.xlabel('Time')\n",
        "plt.ylabel('Energy[kW]')\n",
        "plt.legend(['Real','Predicted'],loc = 'lower right')\n",
        "plt.show()\n",
        "# f.savefig(\"case1.pdf\")"
      ],
      "execution_count": 82,
      "outputs": [
        {
          "output_type": "display_data",
          "data": {
            "image/png": "[encoded data removed]",
            "text/plain": [
              "<Figure size 720x288 with 1 Axes>"
            ]
          },
          "metadata": {
            "tags": [],
            "needs_background": "light"
          }
        }
      ]
    }
  ]
}
